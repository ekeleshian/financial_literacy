{
 "cells": [
  {
   "cell_type": "markdown",
   "metadata": {},
   "source": [
    "# Are Americans Financially Literate?\n",
    "\n",
    "### My Motivation\n",
    "\n",
    "Ever since grad school and my time in education, this question has been pondering in my head almost to an annoying level, as it's a serious problem that we're facing in this country, and that is....\n",
    "\n",
    "_Most Americans do not know what they're doing with their money._\n",
    "\n",
    "Here is the formal definition of [financial literacy](https://www.investopedia.com/terms/f/financial-literacy.asp): \n",
    "\n",
    ">Financial literacy is the education and understanding of various financial areas including topics related to managing personal finance, money and investing. This topic focuses on the ability to manage personal finance matters in an efficient manner, and it includes the knowledge of making appropriate decisions about personal finance such as investing, insurance, real estate, paying for college, budgeting, retirement and tax planning.\n",
    "\n",
    "\n",
    "I explored the world of financial literacy in my Master's program at University of Pennsylvania, where I participated and investigated the effects of Wharton's [Bridges to Wealth](http://www.bridgestowealth.org/) program.  Big realizations were made here:\n",
    "\n",
    "1) When young people are **properly educated** about compound interest, they are very likely to start investing.\n",
    "\n",
    "2) **Collaboration** and group-led **discussions** are an integral part of bringing new people into the practice of investing.\n",
    "\n",
    "3) **Barriers to access** is a very real problem in impoverished urban areas, where much needed credit unions are scarce or simply quiet.\n",
    "\n",
    "4) The **social capital** that you have from your environment strongly dictates how you're going to manage your money.\n",
    "\n",
    "5) **Home-owners** are more likely to spend their money wisely than **renters**. \n",
    "\n",
    "These realizations, which were then fleshed out in my thesis, were backed by **personal observations**, **survey data**, and **interviews**. But as I reflect about the thesis I wrote three years ago, I wish that my analysis contained more stats to quantify my realizations: my foundings were determined by a taking a _qualitative_ approach on the data, building up a narrative about attributes that _could potentially_ affect financial literacy.\n",
    "\n",
    "Therefore, my motivation with this project is to justify these realizations with statistics. In other words, I want to approach this project in the eyes of a **data scientist**.\n",
    "\n",
    "So, let's go!\n",
    "___________________________________________________"
   ]
  },
  {
   "cell_type": "markdown",
   "metadata": {},
   "source": [
    "### The Data\n",
    "\n",
    "The [National Financial Capability Study](http://www.usfinancialcapability.org/downloads.php) assesses the overall financial capability of the national population. Data collection was done by each state across a large sample. I obtained their data over a Google Scholar search. \n",
    "\n",
    "I wrote and ran two python files in order to process the data in a format I wanted, in addition to aggregating over certain columns in order to generate a new metric. One of the python files just stored dictionaries of key-value pairs that allowed to convert labels, and the other python file behaved like a pipeline, cleaning up the data and adding more attributes. After I run the code, a new dataframe is generated and saved in a csv, called ```correct_data.csv```, which can now allow me to play with it in this jupyter notebook.\n",
    "\n",
    "Here's a glimpse of the processed data:"
   ]
  },
  {
   "cell_type": "code",
   "execution_count": 1,
   "metadata": {},
   "outputs": [],
   "source": [
    "import pandas as pd"
   ]
  },
  {
   "cell_type": "code",
   "execution_count": 2,
   "metadata": {},
   "outputs": [
    {
     "data": {
      "text/html": [
       "<div>\n",
       "<style scoped>\n",
       "    .dataframe tbody tr th:only-of-type {\n",
       "        vertical-align: middle;\n",
       "    }\n",
       "\n",
       "    .dataframe tbody tr th {\n",
       "        vertical-align: top;\n",
       "    }\n",
       "\n",
       "    .dataframe thead th {\n",
       "        text-align: right;\n",
       "    }\n",
       "</style>\n",
       "<table border=\"1\" class=\"dataframe\">\n",
       "  <thead>\n",
       "    <tr style=\"text-align: right;\">\n",
       "      <th></th>\n",
       "      <th>NFCSID</th>\n",
       "      <th>State</th>\n",
       "      <th>CensusDivision</th>\n",
       "      <th>CensusRegion</th>\n",
       "      <th>Gender</th>\n",
       "      <th>AgeGroup</th>\n",
       "      <th>Gender/AgeNet</th>\n",
       "      <th>Ethnicity</th>\n",
       "      <th>HighestLevelEducation</th>\n",
       "      <th>MaritalStatus</th>\n",
       "      <th>...</th>\n",
       "      <th>FinancialTestQ1</th>\n",
       "      <th>FinancialTestQ2</th>\n",
       "      <th>FinancialTestQ3</th>\n",
       "      <th>FinancialTestQ4</th>\n",
       "      <th>FinancialTestQ5</th>\n",
       "      <th>FinancialTestQ6</th>\n",
       "      <th>NationalWeightByAgeGenderEthnicityEducationCensusDivision</th>\n",
       "      <th>DivisionalWeightByAgeGenderEthnicityEducationState</th>\n",
       "      <th>StateWeightByAgeGenderEthnicityEducation</th>\n",
       "      <th>financialliteracyscore</th>\n",
       "    </tr>\n",
       "  </thead>\n",
       "  <tbody>\n",
       "    <tr>\n",
       "      <th>0</th>\n",
       "      <td>2015010001</td>\n",
       "      <td>Arizona</td>\n",
       "      <td>Mountain</td>\n",
       "      <td>West</td>\n",
       "      <td>Male</td>\n",
       "      <td>65+</td>\n",
       "      <td>6</td>\n",
       "      <td>White</td>\n",
       "      <td>College, no degree</td>\n",
       "      <td>Divorced</td>\n",
       "      <td>...</td>\n",
       "      <td>3</td>\n",
       "      <td>3</td>\n",
       "      <td>0</td>\n",
       "      <td>0</td>\n",
       "      <td>1</td>\n",
       "      <td>0</td>\n",
       "      <td>0.536725</td>\n",
       "      <td>2.758128</td>\n",
       "      <td>1.287577</td>\n",
       "      <td>18.518519</td>\n",
       "    </tr>\n",
       "    <tr>\n",
       "      <th>1</th>\n",
       "      <td>2015010002</td>\n",
       "      <td>Ohio</td>\n",
       "      <td>East North Central</td>\n",
       "      <td>Midwest</td>\n",
       "      <td>Female</td>\n",
       "      <td>55-64</td>\n",
       "      <td>11</td>\n",
       "      <td>White</td>\n",
       "      <td>College, no degree</td>\n",
       "      <td>Widowed/Widower</td>\n",
       "      <td>...</td>\n",
       "      <td>1</td>\n",
       "      <td>3</td>\n",
       "      <td>0</td>\n",
       "      <td>2</td>\n",
       "      <td>1</td>\n",
       "      <td>0</td>\n",
       "      <td>1.663579</td>\n",
       "      <td>1.587114</td>\n",
       "      <td>1.022437</td>\n",
       "      <td>22.222222</td>\n",
       "    </tr>\n",
       "    <tr>\n",
       "      <th>2</th>\n",
       "      <td>2015010003</td>\n",
       "      <td>New York</td>\n",
       "      <td>Middle Atlantic</td>\n",
       "      <td>Northeast</td>\n",
       "      <td>Female</td>\n",
       "      <td>25-34</td>\n",
       "      <td>8</td>\n",
       "      <td>White</td>\n",
       "      <td>Bachelor's</td>\n",
       "      <td>Married</td>\n",
       "      <td>...</td>\n",
       "      <td>1</td>\n",
       "      <td>0</td>\n",
       "      <td>0</td>\n",
       "      <td>0</td>\n",
       "      <td>1</td>\n",
       "      <td>0</td>\n",
       "      <td>0.708960</td>\n",
       "      <td>0.823015</td>\n",
       "      <td>0.823240</td>\n",
       "      <td>14.814815</td>\n",
       "    </tr>\n",
       "    <tr>\n",
       "      <th>3</th>\n",
       "      <td>2015010004</td>\n",
       "      <td>Florida</td>\n",
       "      <td>South Atlantic</td>\n",
       "      <td>South</td>\n",
       "      <td>Female</td>\n",
       "      <td>35-44</td>\n",
       "      <td>9</td>\n",
       "      <td>Non-White</td>\n",
       "      <td>GED or alternative</td>\n",
       "      <td>Divorced</td>\n",
       "      <td>...</td>\n",
       "      <td>3</td>\n",
       "      <td>0</td>\n",
       "      <td>0</td>\n",
       "      <td>0</td>\n",
       "      <td>1</td>\n",
       "      <td>0</td>\n",
       "      <td>2.031946</td>\n",
       "      <td>2.983356</td>\n",
       "      <td>1.020086</td>\n",
       "      <td>7.407407</td>\n",
       "    </tr>\n",
       "    <tr>\n",
       "      <th>4</th>\n",
       "      <td>2015010005</td>\n",
       "      <td>New Jersey</td>\n",
       "      <td>Middle Atlantic</td>\n",
       "      <td>Northeast</td>\n",
       "      <td>Male</td>\n",
       "      <td>55-64</td>\n",
       "      <td>5</td>\n",
       "      <td>White</td>\n",
       "      <td>HS diploma</td>\n",
       "      <td>Single</td>\n",
       "      <td>...</td>\n",
       "      <td>1</td>\n",
       "      <td>0</td>\n",
       "      <td>0</td>\n",
       "      <td>0</td>\n",
       "      <td>1</td>\n",
       "      <td>2</td>\n",
       "      <td>2.521054</td>\n",
       "      <td>0.980330</td>\n",
       "      <td>1.145100</td>\n",
       "      <td>22.222222</td>\n",
       "    </tr>\n",
       "    <tr>\n",
       "      <th>5</th>\n",
       "      <td>2015010006</td>\n",
       "      <td>Missouri</td>\n",
       "      <td>West North Central</td>\n",
       "      <td>Midwest</td>\n",
       "      <td>Male</td>\n",
       "      <td>65+</td>\n",
       "      <td>6</td>\n",
       "      <td>White</td>\n",
       "      <td>Post Graduate</td>\n",
       "      <td>Married</td>\n",
       "      <td>...</td>\n",
       "      <td>1</td>\n",
       "      <td>3</td>\n",
       "      <td>2</td>\n",
       "      <td>2</td>\n",
       "      <td>1</td>\n",
       "      <td>2</td>\n",
       "      <td>0.395068</td>\n",
       "      <td>1.682096</td>\n",
       "      <td>0.788287</td>\n",
       "      <td>51.851852</td>\n",
       "    </tr>\n",
       "    <tr>\n",
       "      <th>6</th>\n",
       "      <td>2015010007</td>\n",
       "      <td>Florida</td>\n",
       "      <td>South Atlantic</td>\n",
       "      <td>South</td>\n",
       "      <td>Male</td>\n",
       "      <td>35-44</td>\n",
       "      <td>3</td>\n",
       "      <td>Non-White</td>\n",
       "      <td>Bachelor's</td>\n",
       "      <td>Married</td>\n",
       "      <td>...</td>\n",
       "      <td>0</td>\n",
       "      <td>0</td>\n",
       "      <td>0</td>\n",
       "      <td>0</td>\n",
       "      <td>0</td>\n",
       "      <td>2</td>\n",
       "      <td>1.570852</td>\n",
       "      <td>2.298935</td>\n",
       "      <td>0.776923</td>\n",
       "      <td>7.407407</td>\n",
       "    </tr>\n",
       "    <tr>\n",
       "      <th>7</th>\n",
       "      <td>2015010008</td>\n",
       "      <td>Arizona</td>\n",
       "      <td>Mountain</td>\n",
       "      <td>West</td>\n",
       "      <td>Female</td>\n",
       "      <td>35-44</td>\n",
       "      <td>9</td>\n",
       "      <td>Non-White</td>\n",
       "      <td>Did not complete HS</td>\n",
       "      <td>Single</td>\n",
       "      <td>...</td>\n",
       "      <td>0</td>\n",
       "      <td>1</td>\n",
       "      <td>0</td>\n",
       "      <td>0</td>\n",
       "      <td>0</td>\n",
       "      <td>0</td>\n",
       "      <td>0.308107</td>\n",
       "      <td>2.172517</td>\n",
       "      <td>1.072801</td>\n",
       "      <td>7.407407</td>\n",
       "    </tr>\n",
       "    <tr>\n",
       "      <th>8</th>\n",
       "      <td>2015010009</td>\n",
       "      <td>South Carolina</td>\n",
       "      <td>South Atlantic</td>\n",
       "      <td>South</td>\n",
       "      <td>Female</td>\n",
       "      <td>65+</td>\n",
       "      <td>12</td>\n",
       "      <td>Non-White</td>\n",
       "      <td>Post Graduate</td>\n",
       "      <td>Divorced</td>\n",
       "      <td>...</td>\n",
       "      <td>2</td>\n",
       "      <td>3</td>\n",
       "      <td>4</td>\n",
       "      <td>2</td>\n",
       "      <td>1</td>\n",
       "      <td>0</td>\n",
       "      <td>0.960049</td>\n",
       "      <td>0.528338</td>\n",
       "      <td>0.772425</td>\n",
       "      <td>11.111111</td>\n",
       "    </tr>\n",
       "    <tr>\n",
       "      <th>9</th>\n",
       "      <td>2015010010</td>\n",
       "      <td>New York</td>\n",
       "      <td>Middle Atlantic</td>\n",
       "      <td>Northeast</td>\n",
       "      <td>Male</td>\n",
       "      <td>18-24</td>\n",
       "      <td>1</td>\n",
       "      <td>Non-White</td>\n",
       "      <td>Bachelor's</td>\n",
       "      <td>Single</td>\n",
       "      <td>...</td>\n",
       "      <td>0</td>\n",
       "      <td>0</td>\n",
       "      <td>3</td>\n",
       "      <td>0</td>\n",
       "      <td>0</td>\n",
       "      <td>2</td>\n",
       "      <td>1.118281</td>\n",
       "      <td>0.756921</td>\n",
       "      <td>0.742193</td>\n",
       "      <td>3.703704</td>\n",
       "    </tr>\n",
       "  </tbody>\n",
       "</table>\n",
       "<p>10 rows × 127 columns</p>\n",
       "</div>"
      ],
      "text/plain": [
       "       NFCSID           State      CensusDivision CensusRegion  Gender  \\\n",
       "0  2015010001         Arizona            Mountain         West    Male   \n",
       "1  2015010002            Ohio  East North Central      Midwest  Female   \n",
       "2  2015010003        New York     Middle Atlantic    Northeast  Female   \n",
       "3  2015010004         Florida      South Atlantic        South  Female   \n",
       "4  2015010005      New Jersey     Middle Atlantic    Northeast    Male   \n",
       "5  2015010006        Missouri  West North Central      Midwest    Male   \n",
       "6  2015010007         Florida      South Atlantic        South    Male   \n",
       "7  2015010008         Arizona            Mountain         West  Female   \n",
       "8  2015010009  South Carolina      South Atlantic        South  Female   \n",
       "9  2015010010        New York     Middle Atlantic    Northeast    Male   \n",
       "\n",
       "  AgeGroup  Gender/AgeNet  Ethnicity HighestLevelEducation    MaritalStatus  \\\n",
       "0      65+              6      White    College, no degree         Divorced   \n",
       "1    55-64             11      White    College, no degree  Widowed/Widower   \n",
       "2    25-34              8      White            Bachelor's          Married   \n",
       "3    35-44              9  Non-White    GED or alternative         Divorced   \n",
       "4    55-64              5      White            HS diploma           Single   \n",
       "5      65+              6      White         Post Graduate          Married   \n",
       "6    35-44              3  Non-White            Bachelor's          Married   \n",
       "7    35-44              9  Non-White   Did not complete HS           Single   \n",
       "8      65+             12  Non-White         Post Graduate         Divorced   \n",
       "9    18-24              1  Non-White            Bachelor's           Single   \n",
       "\n",
       "           ...           FinancialTestQ1  FinancialTestQ2  FinancialTestQ3  \\\n",
       "0          ...                         3                3                0   \n",
       "1          ...                         1                3                0   \n",
       "2          ...                         1                0                0   \n",
       "3          ...                         3                0                0   \n",
       "4          ...                         1                0                0   \n",
       "5          ...                         1                3                2   \n",
       "6          ...                         0                0                0   \n",
       "7          ...                         0                1                0   \n",
       "8          ...                         2                3                4   \n",
       "9          ...                         0                0                3   \n",
       "\n",
       "  FinancialTestQ4  FinancialTestQ5 FinancialTestQ6  \\\n",
       "0               0                1               0   \n",
       "1               2                1               0   \n",
       "2               0                1               0   \n",
       "3               0                1               0   \n",
       "4               0                1               2   \n",
       "5               2                1               2   \n",
       "6               0                0               2   \n",
       "7               0                0               0   \n",
       "8               2                1               0   \n",
       "9               0                0               2   \n",
       "\n",
       "  NationalWeightByAgeGenderEthnicityEducationCensusDivision  \\\n",
       "0                                           0.536725          \n",
       "1                                           1.663579          \n",
       "2                                           0.708960          \n",
       "3                                           2.031946          \n",
       "4                                           2.521054          \n",
       "5                                           0.395068          \n",
       "6                                           1.570852          \n",
       "7                                           0.308107          \n",
       "8                                           0.960049          \n",
       "9                                           1.118281          \n",
       "\n",
       "  DivisionalWeightByAgeGenderEthnicityEducationState  \\\n",
       "0                                           2.758128   \n",
       "1                                           1.587114   \n",
       "2                                           0.823015   \n",
       "3                                           2.983356   \n",
       "4                                           0.980330   \n",
       "5                                           1.682096   \n",
       "6                                           2.298935   \n",
       "7                                           2.172517   \n",
       "8                                           0.528338   \n",
       "9                                           0.756921   \n",
       "\n",
       "   StateWeightByAgeGenderEthnicityEducation financialliteracyscore  \n",
       "0                                  1.287577              18.518519  \n",
       "1                                  1.022437              22.222222  \n",
       "2                                  0.823240              14.814815  \n",
       "3                                  1.020086               7.407407  \n",
       "4                                  1.145100              22.222222  \n",
       "5                                  0.788287              51.851852  \n",
       "6                                  0.776923               7.407407  \n",
       "7                                  1.072801               7.407407  \n",
       "8                                  0.772425              11.111111  \n",
       "9                                  0.742193               3.703704  \n",
       "\n",
       "[10 rows x 127 columns]"
      ]
     },
     "execution_count": 2,
     "metadata": {},
     "output_type": "execute_result"
    }
   ],
   "source": [
    "df = pd.read_csv(\"./correct_data.csv\")\n",
    "\n",
    "df.head(10)\n"
   ]
  },
  {
   "cell_type": "markdown",
   "metadata": {},
   "source": [
    "So, let's take a look at some simple stats first"
   ]
  },
  {
   "cell_type": "code",
   "execution_count": 3,
   "metadata": {},
   "outputs": [
    {
     "data": {
      "text/html": [
       "<div>\n",
       "<style scoped>\n",
       "    .dataframe tbody tr th:only-of-type {\n",
       "        vertical-align: middle;\n",
       "    }\n",
       "\n",
       "    .dataframe tbody tr th {\n",
       "        vertical-align: top;\n",
       "    }\n",
       "\n",
       "    .dataframe thead th {\n",
       "        text-align: right;\n",
       "    }\n",
       "</style>\n",
       "<table border=\"1\" class=\"dataframe\">\n",
       "  <thead>\n",
       "    <tr style=\"text-align: right;\">\n",
       "      <th></th>\n",
       "      <th>NFCSID</th>\n",
       "      <th>Gender/AgeNet</th>\n",
       "      <th>MaritalStatusVariable</th>\n",
       "      <th>Dependents</th>\n",
       "      <th>USVeteran?</th>\n",
       "      <th>X3</th>\n",
       "      <th>HouseholdRetirementStatus</th>\n",
       "      <th>SatisfactionLevelCurrentFinances</th>\n",
       "      <th>WillingnessFinancialRisk</th>\n",
       "      <th>SpendingVsIncome</th>\n",
       "      <th>...</th>\n",
       "      <th>FinancialTestQ1</th>\n",
       "      <th>FinancialTestQ2</th>\n",
       "      <th>FinancialTestQ3</th>\n",
       "      <th>FinancialTestQ4</th>\n",
       "      <th>FinancialTestQ5</th>\n",
       "      <th>FinancialTestQ6</th>\n",
       "      <th>NationalWeightByAgeGenderEthnicityEducationCensusDivision</th>\n",
       "      <th>DivisionalWeightByAgeGenderEthnicityEducationState</th>\n",
       "      <th>StateWeightByAgeGenderEthnicityEducation</th>\n",
       "      <th>financialliteracyscore</th>\n",
       "    </tr>\n",
       "  </thead>\n",
       "  <tbody>\n",
       "    <tr>\n",
       "      <th>count</th>\n",
       "      <td>2.756400e+04</td>\n",
       "      <td>27564.000000</td>\n",
       "      <td>27564.000000</td>\n",
       "      <td>27564.000000</td>\n",
       "      <td>27564.000000</td>\n",
       "      <td>27564.000000</td>\n",
       "      <td>27564.000000</td>\n",
       "      <td>27564.000000</td>\n",
       "      <td>27564.000000</td>\n",
       "      <td>27564.000000</td>\n",
       "      <td>...</td>\n",
       "      <td>27564.000000</td>\n",
       "      <td>27564.000000</td>\n",
       "      <td>27564.000000</td>\n",
       "      <td>27564.000000</td>\n",
       "      <td>27564.000000</td>\n",
       "      <td>27564.000000</td>\n",
       "      <td>27564.000000</td>\n",
       "      <td>27564.000000</td>\n",
       "      <td>27564.000000</td>\n",
       "      <td>27564.000000</td>\n",
       "    </tr>\n",
       "    <tr>\n",
       "      <th>mean</th>\n",
       "      <td>2.015024e+09</td>\n",
       "      <td>7.005260</td>\n",
       "      <td>1.842621</td>\n",
       "      <td>4.193550</td>\n",
       "      <td>4.083805</td>\n",
       "      <td>1.026665</td>\n",
       "      <td>1.219743</td>\n",
       "      <td>6.311711</td>\n",
       "      <td>5.536678</td>\n",
       "      <td>5.255805</td>\n",
       "      <td>...</td>\n",
       "      <td>1.837614</td>\n",
       "      <td>3.019990</td>\n",
       "      <td>2.069765</td>\n",
       "      <td>3.084712</td>\n",
       "      <td>1.480010</td>\n",
       "      <td>1.736468</td>\n",
       "      <td>1.000000</td>\n",
       "      <td>1.000000</td>\n",
       "      <td>1.000000</td>\n",
       "      <td>36.369768</td>\n",
       "    </tr>\n",
       "    <tr>\n",
       "      <th>std</th>\n",
       "      <td>7.957186e+03</td>\n",
       "      <td>3.353802</td>\n",
       "      <td>0.952244</td>\n",
       "      <td>1.899293</td>\n",
       "      <td>10.849597</td>\n",
       "      <td>0.161106</td>\n",
       "      <td>0.436432</td>\n",
       "      <td>7.914419</td>\n",
       "      <td>7.348415</td>\n",
       "      <td>17.507562</td>\n",
       "      <td>...</td>\n",
       "      <td>8.695966</td>\n",
       "      <td>9.205448</td>\n",
       "      <td>8.861020</td>\n",
       "      <td>10.568376</td>\n",
       "      <td>7.371834</td>\n",
       "      <td>8.094263</td>\n",
       "      <td>0.604015</td>\n",
       "      <td>0.722603</td>\n",
       "      <td>0.350282</td>\n",
       "      <td>18.175437</td>\n",
       "    </tr>\n",
       "    <tr>\n",
       "      <th>min</th>\n",
       "      <td>2.015010e+09</td>\n",
       "      <td>1.000000</td>\n",
       "      <td>1.000000</td>\n",
       "      <td>1.000000</td>\n",
       "      <td>1.000000</td>\n",
       "      <td>1.000000</td>\n",
       "      <td>1.000000</td>\n",
       "      <td>0.000000</td>\n",
       "      <td>0.000000</td>\n",
       "      <td>1.000000</td>\n",
       "      <td>...</td>\n",
       "      <td>0.000000</td>\n",
       "      <td>0.000000</td>\n",
       "      <td>0.000000</td>\n",
       "      <td>0.000000</td>\n",
       "      <td>0.000000</td>\n",
       "      <td>0.000000</td>\n",
       "      <td>0.179439</td>\n",
       "      <td>0.041745</td>\n",
       "      <td>0.180210</td>\n",
       "      <td>-7.407407</td>\n",
       "    </tr>\n",
       "    <tr>\n",
       "      <th>25%</th>\n",
       "      <td>2.015017e+09</td>\n",
       "      <td>4.000000</td>\n",
       "      <td>1.000000</td>\n",
       "      <td>2.000000</td>\n",
       "      <td>3.000000</td>\n",
       "      <td>1.000000</td>\n",
       "      <td>1.000000</td>\n",
       "      <td>4.000000</td>\n",
       "      <td>3.000000</td>\n",
       "      <td>1.000000</td>\n",
       "      <td>...</td>\n",
       "      <td>1.000000</td>\n",
       "      <td>1.000000</td>\n",
       "      <td>0.000000</td>\n",
       "      <td>1.000000</td>\n",
       "      <td>1.000000</td>\n",
       "      <td>0.000000</td>\n",
       "      <td>0.525292</td>\n",
       "      <td>0.469758</td>\n",
       "      <td>0.807126</td>\n",
       "      <td>22.222222</td>\n",
       "    </tr>\n",
       "    <tr>\n",
       "      <th>50%</th>\n",
       "      <td>2.015024e+09</td>\n",
       "      <td>7.000000</td>\n",
       "      <td>1.000000</td>\n",
       "      <td>5.000000</td>\n",
       "      <td>3.000000</td>\n",
       "      <td>1.000000</td>\n",
       "      <td>1.000000</td>\n",
       "      <td>6.000000</td>\n",
       "      <td>5.000000</td>\n",
       "      <td>2.000000</td>\n",
       "      <td>...</td>\n",
       "      <td>1.000000</td>\n",
       "      <td>3.000000</td>\n",
       "      <td>1.000000</td>\n",
       "      <td>2.000000</td>\n",
       "      <td>1.000000</td>\n",
       "      <td>1.000000</td>\n",
       "      <td>0.869152</td>\n",
       "      <td>0.827975</td>\n",
       "      <td>1.010786</td>\n",
       "      <td>37.037037</td>\n",
       "    </tr>\n",
       "    <tr>\n",
       "      <th>75%</th>\n",
       "      <td>2.015031e+09</td>\n",
       "      <td>10.000000</td>\n",
       "      <td>3.000000</td>\n",
       "      <td>6.000000</td>\n",
       "      <td>3.000000</td>\n",
       "      <td>1.000000</td>\n",
       "      <td>1.000000</td>\n",
       "      <td>8.000000</td>\n",
       "      <td>7.000000</td>\n",
       "      <td>3.000000</td>\n",
       "      <td>...</td>\n",
       "      <td>1.000000</td>\n",
       "      <td>3.000000</td>\n",
       "      <td>2.000000</td>\n",
       "      <td>3.000000</td>\n",
       "      <td>1.000000</td>\n",
       "      <td>2.000000</td>\n",
       "      <td>1.357356</td>\n",
       "      <td>1.361294</td>\n",
       "      <td>1.127592</td>\n",
       "      <td>51.851852</td>\n",
       "    </tr>\n",
       "    <tr>\n",
       "      <th>max</th>\n",
       "      <td>2.015038e+09</td>\n",
       "      <td>12.000000</td>\n",
       "      <td>3.000000</td>\n",
       "      <td>6.000000</td>\n",
       "      <td>99.000000</td>\n",
       "      <td>2.000000</td>\n",
       "      <td>3.000000</td>\n",
       "      <td>99.000000</td>\n",
       "      <td>99.000000</td>\n",
       "      <td>99.000000</td>\n",
       "      <td>...</td>\n",
       "      <td>99.000000</td>\n",
       "      <td>99.000000</td>\n",
       "      <td>99.000000</td>\n",
       "      <td>99.000000</td>\n",
       "      <td>99.000000</td>\n",
       "      <td>99.000000</td>\n",
       "      <td>4.836112</td>\n",
       "      <td>4.271710</td>\n",
       "      <td>8.940685</td>\n",
       "      <td>85.185185</td>\n",
       "    </tr>\n",
       "  </tbody>\n",
       "</table>\n",
       "<p>8 rows × 69 columns</p>\n",
       "</div>"
      ],
      "text/plain": [
       "             NFCSID  Gender/AgeNet  MaritalStatusVariable    Dependents  \\\n",
       "count  2.756400e+04   27564.000000           27564.000000  27564.000000   \n",
       "mean   2.015024e+09       7.005260               1.842621      4.193550   \n",
       "std    7.957186e+03       3.353802               0.952244      1.899293   \n",
       "min    2.015010e+09       1.000000               1.000000      1.000000   \n",
       "25%    2.015017e+09       4.000000               1.000000      2.000000   \n",
       "50%    2.015024e+09       7.000000               1.000000      5.000000   \n",
       "75%    2.015031e+09      10.000000               3.000000      6.000000   \n",
       "max    2.015038e+09      12.000000               3.000000      6.000000   \n",
       "\n",
       "         USVeteran?            X3  HouseholdRetirementStatus  \\\n",
       "count  27564.000000  27564.000000               27564.000000   \n",
       "mean       4.083805      1.026665                   1.219743   \n",
       "std       10.849597      0.161106                   0.436432   \n",
       "min        1.000000      1.000000                   1.000000   \n",
       "25%        3.000000      1.000000                   1.000000   \n",
       "50%        3.000000      1.000000                   1.000000   \n",
       "75%        3.000000      1.000000                   1.000000   \n",
       "max       99.000000      2.000000                   3.000000   \n",
       "\n",
       "       SatisfactionLevelCurrentFinances  WillingnessFinancialRisk  \\\n",
       "count                      27564.000000              27564.000000   \n",
       "mean                           6.311711                  5.536678   \n",
       "std                            7.914419                  7.348415   \n",
       "min                            0.000000                  0.000000   \n",
       "25%                            4.000000                  3.000000   \n",
       "50%                            6.000000                  5.000000   \n",
       "75%                            8.000000                  7.000000   \n",
       "max                           99.000000                 99.000000   \n",
       "\n",
       "       SpendingVsIncome           ...            FinancialTestQ1  \\\n",
       "count      27564.000000           ...               27564.000000   \n",
       "mean           5.255805           ...                   1.837614   \n",
       "std           17.507562           ...                   8.695966   \n",
       "min            1.000000           ...                   0.000000   \n",
       "25%            1.000000           ...                   1.000000   \n",
       "50%            2.000000           ...                   1.000000   \n",
       "75%            3.000000           ...                   1.000000   \n",
       "max           99.000000           ...                  99.000000   \n",
       "\n",
       "       FinancialTestQ2  FinancialTestQ3  FinancialTestQ4  FinancialTestQ5  \\\n",
       "count     27564.000000     27564.000000     27564.000000     27564.000000   \n",
       "mean          3.019990         2.069765         3.084712         1.480010   \n",
       "std           9.205448         8.861020        10.568376         7.371834   \n",
       "min           0.000000         0.000000         0.000000         0.000000   \n",
       "25%           1.000000         0.000000         1.000000         1.000000   \n",
       "50%           3.000000         1.000000         2.000000         1.000000   \n",
       "75%           3.000000         2.000000         3.000000         1.000000   \n",
       "max          99.000000        99.000000        99.000000        99.000000   \n",
       "\n",
       "       FinancialTestQ6  \\\n",
       "count     27564.000000   \n",
       "mean          1.736468   \n",
       "std           8.094263   \n",
       "min           0.000000   \n",
       "25%           0.000000   \n",
       "50%           1.000000   \n",
       "75%           2.000000   \n",
       "max          99.000000   \n",
       "\n",
       "       NationalWeightByAgeGenderEthnicityEducationCensusDivision  \\\n",
       "count                                       27564.000000           \n",
       "mean                                            1.000000           \n",
       "std                                             0.604015           \n",
       "min                                             0.179439           \n",
       "25%                                             0.525292           \n",
       "50%                                             0.869152           \n",
       "75%                                             1.357356           \n",
       "max                                             4.836112           \n",
       "\n",
       "       DivisionalWeightByAgeGenderEthnicityEducationState  \\\n",
       "count                                       27564.000000    \n",
       "mean                                            1.000000    \n",
       "std                                             0.722603    \n",
       "min                                             0.041745    \n",
       "25%                                             0.469758    \n",
       "50%                                             0.827975    \n",
       "75%                                             1.361294    \n",
       "max                                             4.271710    \n",
       "\n",
       "       StateWeightByAgeGenderEthnicityEducation  financialliteracyscore  \n",
       "count                              27564.000000            27564.000000  \n",
       "mean                                   1.000000               36.369768  \n",
       "std                                    0.350282               18.175437  \n",
       "min                                    0.180210               -7.407407  \n",
       "25%                                    0.807126               22.222222  \n",
       "50%                                    1.010786               37.037037  \n",
       "75%                                    1.127592               51.851852  \n",
       "max                                    8.940685               85.185185  \n",
       "\n",
       "[8 rows x 69 columns]"
      ]
     },
     "execution_count": 3,
     "metadata": {},
     "output_type": "execute_result"
    }
   ],
   "source": [
    "df.describe()"
   ]
  },
  {
   "cell_type": "markdown",
   "metadata": {},
   "source": [
    "The data is a lot. Notice that there's an ellipses after the SpendingVsIncome column, indicating that many other columns aren't printed on the screen.\n",
    "\n",
    "Let's pick out some interesting columns to start.\n",
    "\n",
    "I want to start with the ```financialliteracyscore``` column, as this is the column that I created. It measures a person's level of comprehension on financial literacy. I created this metric based on the definition mentioned earlier: the **knowledge of compound interest**, the practice of **planning for the future**, and basic **money management**, including budgeting and owning a savings account*. \n",
    "\n",
    "*_By the way, the nitty-gritty of how I went about this is in my prior blog post, [Playing with Financial Literacy Data](https://ekeleshian.github.io/playing-with-data/)_."
   ]
  },
  {
   "cell_type": "code",
   "execution_count": 4,
   "metadata": {},
   "outputs": [
    {
     "data": {
      "text/plain": [
       "count    27564.000000\n",
       "mean        36.369768\n",
       "std         18.175437\n",
       "min         -7.407407\n",
       "25%         22.222222\n",
       "50%         37.037037\n",
       "75%         51.851852\n",
       "max         85.185185\n",
       "Name: financialliteracyscore, dtype: float64"
      ]
     },
     "execution_count": 4,
     "metadata": {},
     "output_type": "execute_result"
    }
   ],
   "source": [
    "df['financialliteracyscore'].describe()"
   ]
  },
  {
   "cell_type": "markdown",
   "metadata": {},
   "source": [
    "\n",
    "_Side note: the lowest score here is negative because some of the columns I aggregated over were metrics that would pull the score down. For instance, if a surveyee answered that they have too much debt, their score went down two points; if they use their credit cards for a cash advance, the score went down one point. The weight of this negative score was arbitruary somewhat, just based on my own perception about how bad that quality is relative to the other negative attributes. The entire rubric I created is in my prior blog [Playing with Financial Literacy Data](https://ekeleshian.github.io/playing-with-data/)_; *the rubric is called* ```dictionary_of_parameters``` *for reference.*"
   ]
  },
  {
   "cell_type": "code",
   "execution_count": 5,
   "metadata": {},
   "outputs": [
    {
     "name": "stdout",
     "output_type": "stream",
     "text": [
      "Financial literacy score in the 75th percentile: 51.85%\n",
      "Financial literacy score in the 98th percentile: 70.37%\n"
     ]
    }
   ],
   "source": [
    "import decimal\n",
    "\n",
    "def rounding(num):\n",
    "    num = decimal.Decimal(num)\n",
    "    return round(num, 2)\n",
    "    \n",
    "percentile_75 = df['financialliteracyscore'].quantile(q=.75)\n",
    "percentile_98 = df['financialliteracyscore'].quantile(q=.98)\n",
    "\n",
    "print(f'Financial literacy score in the 75th percentile: {rounding(percentile_75)}%')\n",
    "print(f'Financial literacy score in the 98th percentile: {rounding(percentile_98)}%')"
   ]
  },
  {
   "cell_type": "markdown",
   "metadata": {},
   "source": [
    "Already, the stats looks alarming.  75% of surveyees score around 50% on this financial literacy assessment, meaning three-fourths of Americans failed the test.\n",
    "\n",
    "Furthermore, **only 2%** of Americans know a decent amount of financial literacy, as they passed the test.\n",
    "\n",
    "I feel like I have seen this 2% with regards to people and money before....\n",
    "\n",
    "![Homer thinking](homer_thinking.jpg)\n",
    "\n",
    "What I really want to do now is to partition the data into two groups: those who failed the test (98% of the paricipants) vs those who didn't (2% of the participants).  Then, with feature engineering, I can hopefully figure out the particular factors that determine financial literacy proficiency.\n",
    "\n",
    "But before I do that, I need to make sure that this partition is reasonable, as it was determined by a metric that I created.  So, I will test my financial literacy metric by comparing the two groups with parameters that I did not use in my financial literacy metric calculation.\n",
    "\n",
    "In turn, I will compare the two groups by the following parameters:\n",
    "\n",
    "1) Household Income\n",
    "\n",
    "2) Highest level of education\n",
    "\n",
    "3) Whether they received financial education at work, school, or at home.\n",
    "\n",
    "4) Own a home\n",
    "\n",
    "5) Math abilities\n",
    "\n",
    "These parameters typically correlate with financial literacy competence, but they're not included in my financial literacy metric. If my financial literacy metric is a reliable one, then these parameters should correlate nicely with the test results.\n",
    "\n",
    "___________________________________________________\n",
    "\n"
   ]
  },
  {
   "cell_type": "markdown",
   "metadata": {},
   "source": [
    "### Partitioning the data"
   ]
  },
  {
   "cell_type": "code",
   "execution_count": 6,
   "metadata": {},
   "outputs": [],
   "source": [
    "bottom_98 = df[df['financialliteracyscore'] <= 70.37]"
   ]
  },
  {
   "cell_type": "code",
   "execution_count": 7,
   "metadata": {},
   "outputs": [
    {
     "data": {
      "text/html": [
       "<div>\n",
       "<style scoped>\n",
       "    .dataframe tbody tr th:only-of-type {\n",
       "        vertical-align: middle;\n",
       "    }\n",
       "\n",
       "    .dataframe tbody tr th {\n",
       "        vertical-align: top;\n",
       "    }\n",
       "\n",
       "    .dataframe thead th {\n",
       "        text-align: right;\n",
       "    }\n",
       "</style>\n",
       "<table border=\"1\" class=\"dataframe\">\n",
       "  <thead>\n",
       "    <tr style=\"text-align: right;\">\n",
       "      <th></th>\n",
       "      <th>NFCSID</th>\n",
       "      <th>Gender/AgeNet</th>\n",
       "      <th>MaritalStatusVariable</th>\n",
       "      <th>Dependents</th>\n",
       "      <th>USVeteran?</th>\n",
       "      <th>X3</th>\n",
       "      <th>HouseholdRetirementStatus</th>\n",
       "      <th>SatisfactionLevelCurrentFinances</th>\n",
       "      <th>WillingnessFinancialRisk</th>\n",
       "      <th>SpendingVsIncome</th>\n",
       "      <th>...</th>\n",
       "      <th>FinancialTestQ1</th>\n",
       "      <th>FinancialTestQ2</th>\n",
       "      <th>FinancialTestQ3</th>\n",
       "      <th>FinancialTestQ4</th>\n",
       "      <th>FinancialTestQ5</th>\n",
       "      <th>FinancialTestQ6</th>\n",
       "      <th>NationalWeightByAgeGenderEthnicityEducationCensusDivision</th>\n",
       "      <th>DivisionalWeightByAgeGenderEthnicityEducationState</th>\n",
       "      <th>StateWeightByAgeGenderEthnicityEducation</th>\n",
       "      <th>financialliteracyscore</th>\n",
       "    </tr>\n",
       "  </thead>\n",
       "  <tbody>\n",
       "    <tr>\n",
       "      <th>count</th>\n",
       "      <td>2.662300e+04</td>\n",
       "      <td>26623.000000</td>\n",
       "      <td>26623.000000</td>\n",
       "      <td>26623.000000</td>\n",
       "      <td>26623.000000</td>\n",
       "      <td>26623.000000</td>\n",
       "      <td>26623.000000</td>\n",
       "      <td>26623.000000</td>\n",
       "      <td>26623.000000</td>\n",
       "      <td>26623.000000</td>\n",
       "      <td>...</td>\n",
       "      <td>26623.000000</td>\n",
       "      <td>26623.000000</td>\n",
       "      <td>26623.000000</td>\n",
       "      <td>26623.000000</td>\n",
       "      <td>26623.000000</td>\n",
       "      <td>26623.000000</td>\n",
       "      <td>26623.000000</td>\n",
       "      <td>26623.000000</td>\n",
       "      <td>26623.000000</td>\n",
       "      <td>26623.000000</td>\n",
       "    </tr>\n",
       "    <tr>\n",
       "      <th>mean</th>\n",
       "      <td>2.015024e+09</td>\n",
       "      <td>7.024453</td>\n",
       "      <td>1.856215</td>\n",
       "      <td>4.191902</td>\n",
       "      <td>4.119258</td>\n",
       "      <td>1.027007</td>\n",
       "      <td>1.214401</td>\n",
       "      <td>6.224618</td>\n",
       "      <td>5.479172</td>\n",
       "      <td>5.395523</td>\n",
       "      <td>...</td>\n",
       "      <td>1.866281</td>\n",
       "      <td>3.023476</td>\n",
       "      <td>2.072982</td>\n",
       "      <td>3.107276</td>\n",
       "      <td>1.496939</td>\n",
       "      <td>1.730233</td>\n",
       "      <td>1.005478</td>\n",
       "      <td>1.004741</td>\n",
       "      <td>1.003282</td>\n",
       "      <td>35.065754</td>\n",
       "    </tr>\n",
       "    <tr>\n",
       "      <th>std</th>\n",
       "      <td>7.975077e+03</td>\n",
       "      <td>3.360019</td>\n",
       "      <td>0.953891</td>\n",
       "      <td>1.903626</td>\n",
       "      <td>10.990473</td>\n",
       "      <td>0.162106</td>\n",
       "      <td>0.433384</td>\n",
       "      <td>8.036495</td>\n",
       "      <td>7.459439</td>\n",
       "      <td>17.797757</td>\n",
       "      <td>...</td>\n",
       "      <td>8.846872</td>\n",
       "      <td>9.366426</td>\n",
       "      <td>8.995828</td>\n",
       "      <td>10.719432</td>\n",
       "      <td>7.500386</td>\n",
       "      <td>8.235711</td>\n",
       "      <td>0.605283</td>\n",
       "      <td>0.725212</td>\n",
       "      <td>0.352015</td>\n",
       "      <td>17.081506</td>\n",
       "    </tr>\n",
       "    <tr>\n",
       "      <th>min</th>\n",
       "      <td>2.015010e+09</td>\n",
       "      <td>1.000000</td>\n",
       "      <td>1.000000</td>\n",
       "      <td>1.000000</td>\n",
       "      <td>1.000000</td>\n",
       "      <td>1.000000</td>\n",
       "      <td>1.000000</td>\n",
       "      <td>0.000000</td>\n",
       "      <td>0.000000</td>\n",
       "      <td>1.000000</td>\n",
       "      <td>...</td>\n",
       "      <td>0.000000</td>\n",
       "      <td>0.000000</td>\n",
       "      <td>0.000000</td>\n",
       "      <td>0.000000</td>\n",
       "      <td>0.000000</td>\n",
       "      <td>0.000000</td>\n",
       "      <td>0.179439</td>\n",
       "      <td>0.041745</td>\n",
       "      <td>0.180210</td>\n",
       "      <td>-7.407407</td>\n",
       "    </tr>\n",
       "    <tr>\n",
       "      <th>25%</th>\n",
       "      <td>2.015017e+09</td>\n",
       "      <td>4.000000</td>\n",
       "      <td>1.000000</td>\n",
       "      <td>2.000000</td>\n",
       "      <td>3.000000</td>\n",
       "      <td>1.000000</td>\n",
       "      <td>1.000000</td>\n",
       "      <td>3.000000</td>\n",
       "      <td>3.000000</td>\n",
       "      <td>1.000000</td>\n",
       "      <td>...</td>\n",
       "      <td>1.000000</td>\n",
       "      <td>1.000000</td>\n",
       "      <td>0.000000</td>\n",
       "      <td>1.000000</td>\n",
       "      <td>1.000000</td>\n",
       "      <td>0.000000</td>\n",
       "      <td>0.525292</td>\n",
       "      <td>0.475520</td>\n",
       "      <td>0.809064</td>\n",
       "      <td>22.222222</td>\n",
       "    </tr>\n",
       "    <tr>\n",
       "      <th>50%</th>\n",
       "      <td>2.015024e+09</td>\n",
       "      <td>7.000000</td>\n",
       "      <td>1.000000</td>\n",
       "      <td>5.000000</td>\n",
       "      <td>3.000000</td>\n",
       "      <td>1.000000</td>\n",
       "      <td>1.000000</td>\n",
       "      <td>6.000000</td>\n",
       "      <td>5.000000</td>\n",
       "      <td>2.000000</td>\n",
       "      <td>...</td>\n",
       "      <td>1.000000</td>\n",
       "      <td>3.000000</td>\n",
       "      <td>1.000000</td>\n",
       "      <td>2.000000</td>\n",
       "      <td>1.000000</td>\n",
       "      <td>1.000000</td>\n",
       "      <td>0.869152</td>\n",
       "      <td>0.835671</td>\n",
       "      <td>1.014797</td>\n",
       "      <td>33.333333</td>\n",
       "    </tr>\n",
       "    <tr>\n",
       "      <th>75%</th>\n",
       "      <td>2.015031e+09</td>\n",
       "      <td>10.000000</td>\n",
       "      <td>3.000000</td>\n",
       "      <td>6.000000</td>\n",
       "      <td>3.000000</td>\n",
       "      <td>1.000000</td>\n",
       "      <td>1.000000</td>\n",
       "      <td>8.000000</td>\n",
       "      <td>7.000000</td>\n",
       "      <td>3.000000</td>\n",
       "      <td>...</td>\n",
       "      <td>1.000000</td>\n",
       "      <td>3.000000</td>\n",
       "      <td>2.000000</td>\n",
       "      <td>3.000000</td>\n",
       "      <td>1.000000</td>\n",
       "      <td>2.000000</td>\n",
       "      <td>1.364961</td>\n",
       "      <td>1.367251</td>\n",
       "      <td>1.130125</td>\n",
       "      <td>48.148148</td>\n",
       "    </tr>\n",
       "    <tr>\n",
       "      <th>max</th>\n",
       "      <td>2.015038e+09</td>\n",
       "      <td>12.000000</td>\n",
       "      <td>3.000000</td>\n",
       "      <td>6.000000</td>\n",
       "      <td>99.000000</td>\n",
       "      <td>2.000000</td>\n",
       "      <td>3.000000</td>\n",
       "      <td>99.000000</td>\n",
       "      <td>99.000000</td>\n",
       "      <td>99.000000</td>\n",
       "      <td>...</td>\n",
       "      <td>99.000000</td>\n",
       "      <td>99.000000</td>\n",
       "      <td>99.000000</td>\n",
       "      <td>99.000000</td>\n",
       "      <td>99.000000</td>\n",
       "      <td>99.000000</td>\n",
       "      <td>4.836112</td>\n",
       "      <td>4.271710</td>\n",
       "      <td>8.940685</td>\n",
       "      <td>66.666667</td>\n",
       "    </tr>\n",
       "  </tbody>\n",
       "</table>\n",
       "<p>8 rows × 69 columns</p>\n",
       "</div>"
      ],
      "text/plain": [
       "             NFCSID  Gender/AgeNet  MaritalStatusVariable    Dependents  \\\n",
       "count  2.662300e+04   26623.000000           26623.000000  26623.000000   \n",
       "mean   2.015024e+09       7.024453               1.856215      4.191902   \n",
       "std    7.975077e+03       3.360019               0.953891      1.903626   \n",
       "min    2.015010e+09       1.000000               1.000000      1.000000   \n",
       "25%    2.015017e+09       4.000000               1.000000      2.000000   \n",
       "50%    2.015024e+09       7.000000               1.000000      5.000000   \n",
       "75%    2.015031e+09      10.000000               3.000000      6.000000   \n",
       "max    2.015038e+09      12.000000               3.000000      6.000000   \n",
       "\n",
       "         USVeteran?            X3  HouseholdRetirementStatus  \\\n",
       "count  26623.000000  26623.000000               26623.000000   \n",
       "mean       4.119258      1.027007                   1.214401   \n",
       "std       10.990473      0.162106                   0.433384   \n",
       "min        1.000000      1.000000                   1.000000   \n",
       "25%        3.000000      1.000000                   1.000000   \n",
       "50%        3.000000      1.000000                   1.000000   \n",
       "75%        3.000000      1.000000                   1.000000   \n",
       "max       99.000000      2.000000                   3.000000   \n",
       "\n",
       "       SatisfactionLevelCurrentFinances  WillingnessFinancialRisk  \\\n",
       "count                      26623.000000              26623.000000   \n",
       "mean                           6.224618                  5.479172   \n",
       "std                            8.036495                  7.459439   \n",
       "min                            0.000000                  0.000000   \n",
       "25%                            3.000000                  3.000000   \n",
       "50%                            6.000000                  5.000000   \n",
       "75%                            8.000000                  7.000000   \n",
       "max                           99.000000                 99.000000   \n",
       "\n",
       "       SpendingVsIncome           ...            FinancialTestQ1  \\\n",
       "count      26623.000000           ...               26623.000000   \n",
       "mean           5.395523           ...                   1.866281   \n",
       "std           17.797757           ...                   8.846872   \n",
       "min            1.000000           ...                   0.000000   \n",
       "25%            1.000000           ...                   1.000000   \n",
       "50%            2.000000           ...                   1.000000   \n",
       "75%            3.000000           ...                   1.000000   \n",
       "max           99.000000           ...                  99.000000   \n",
       "\n",
       "       FinancialTestQ2  FinancialTestQ3  FinancialTestQ4  FinancialTestQ5  \\\n",
       "count     26623.000000     26623.000000     26623.000000     26623.000000   \n",
       "mean          3.023476         2.072982         3.107276         1.496939   \n",
       "std           9.366426         8.995828        10.719432         7.500386   \n",
       "min           0.000000         0.000000         0.000000         0.000000   \n",
       "25%           1.000000         0.000000         1.000000         1.000000   \n",
       "50%           3.000000         1.000000         2.000000         1.000000   \n",
       "75%           3.000000         2.000000         3.000000         1.000000   \n",
       "max          99.000000        99.000000        99.000000        99.000000   \n",
       "\n",
       "       FinancialTestQ6  \\\n",
       "count     26623.000000   \n",
       "mean          1.730233   \n",
       "std           8.235711   \n",
       "min           0.000000   \n",
       "25%           0.000000   \n",
       "50%           1.000000   \n",
       "75%           2.000000   \n",
       "max          99.000000   \n",
       "\n",
       "       NationalWeightByAgeGenderEthnicityEducationCensusDivision  \\\n",
       "count                                       26623.000000           \n",
       "mean                                            1.005478           \n",
       "std                                             0.605283           \n",
       "min                                             0.179439           \n",
       "25%                                             0.525292           \n",
       "50%                                             0.869152           \n",
       "75%                                             1.364961           \n",
       "max                                             4.836112           \n",
       "\n",
       "       DivisionalWeightByAgeGenderEthnicityEducationState  \\\n",
       "count                                       26623.000000    \n",
       "mean                                            1.004741    \n",
       "std                                             0.725212    \n",
       "min                                             0.041745    \n",
       "25%                                             0.475520    \n",
       "50%                                             0.835671    \n",
       "75%                                             1.367251    \n",
       "max                                             4.271710    \n",
       "\n",
       "       StateWeightByAgeGenderEthnicityEducation  financialliteracyscore  \n",
       "count                              26623.000000            26623.000000  \n",
       "mean                                   1.003282               35.065754  \n",
       "std                                    0.352015               17.081506  \n",
       "min                                    0.180210               -7.407407  \n",
       "25%                                    0.809064               22.222222  \n",
       "50%                                    1.014797               33.333333  \n",
       "75%                                    1.130125               48.148148  \n",
       "max                                    8.940685               66.666667  \n",
       "\n",
       "[8 rows x 69 columns]"
      ]
     },
     "execution_count": 7,
     "metadata": {},
     "output_type": "execute_result"
    }
   ],
   "source": [
    "bottom_98.describe()"
   ]
  },
  {
   "cell_type": "code",
   "execution_count": 8,
   "metadata": {},
   "outputs": [],
   "source": [
    "top_2 = df[df['financialliteracyscore'] > 70.37]"
   ]
  },
  {
   "cell_type": "code",
   "execution_count": 9,
   "metadata": {},
   "outputs": [
    {
     "data": {
      "text/html": [
       "<div>\n",
       "<style scoped>\n",
       "    .dataframe tbody tr th:only-of-type {\n",
       "        vertical-align: middle;\n",
       "    }\n",
       "\n",
       "    .dataframe tbody tr th {\n",
       "        vertical-align: top;\n",
       "    }\n",
       "\n",
       "    .dataframe thead th {\n",
       "        text-align: right;\n",
       "    }\n",
       "</style>\n",
       "<table border=\"1\" class=\"dataframe\">\n",
       "  <thead>\n",
       "    <tr style=\"text-align: right;\">\n",
       "      <th></th>\n",
       "      <th>NFCSID</th>\n",
       "      <th>Gender/AgeNet</th>\n",
       "      <th>MaritalStatusVariable</th>\n",
       "      <th>Dependents</th>\n",
       "      <th>USVeteran?</th>\n",
       "      <th>X3</th>\n",
       "      <th>HouseholdRetirementStatus</th>\n",
       "      <th>SatisfactionLevelCurrentFinances</th>\n",
       "      <th>WillingnessFinancialRisk</th>\n",
       "      <th>SpendingVsIncome</th>\n",
       "      <th>...</th>\n",
       "      <th>FinancialTestQ1</th>\n",
       "      <th>FinancialTestQ2</th>\n",
       "      <th>FinancialTestQ3</th>\n",
       "      <th>FinancialTestQ4</th>\n",
       "      <th>FinancialTestQ5</th>\n",
       "      <th>FinancialTestQ6</th>\n",
       "      <th>NationalWeightByAgeGenderEthnicityEducationCensusDivision</th>\n",
       "      <th>DivisionalWeightByAgeGenderEthnicityEducationState</th>\n",
       "      <th>StateWeightByAgeGenderEthnicityEducation</th>\n",
       "      <th>financialliteracyscore</th>\n",
       "    </tr>\n",
       "  </thead>\n",
       "  <tbody>\n",
       "    <tr>\n",
       "      <th>count</th>\n",
       "      <td>9.410000e+02</td>\n",
       "      <td>941.000000</td>\n",
       "      <td>941.000000</td>\n",
       "      <td>941.000000</td>\n",
       "      <td>941.000000</td>\n",
       "      <td>941.000000</td>\n",
       "      <td>941.000000</td>\n",
       "      <td>941.000000</td>\n",
       "      <td>941.000000</td>\n",
       "      <td>941.000000</td>\n",
       "      <td>...</td>\n",
       "      <td>941.000000</td>\n",
       "      <td>941.000000</td>\n",
       "      <td>941.000000</td>\n",
       "      <td>941.000000</td>\n",
       "      <td>941.000000</td>\n",
       "      <td>941.000000</td>\n",
       "      <td>941.000000</td>\n",
       "      <td>941.000000</td>\n",
       "      <td>941.000000</td>\n",
       "      <td>941.000000</td>\n",
       "    </tr>\n",
       "    <tr>\n",
       "      <th>mean</th>\n",
       "      <td>2.015025e+09</td>\n",
       "      <td>6.462274</td>\n",
       "      <td>1.458023</td>\n",
       "      <td>4.240170</td>\n",
       "      <td>3.080765</td>\n",
       "      <td>1.017003</td>\n",
       "      <td>1.370882</td>\n",
       "      <td>8.775770</td>\n",
       "      <td>7.163656</td>\n",
       "      <td>1.302869</td>\n",
       "      <td>...</td>\n",
       "      <td>1.026567</td>\n",
       "      <td>2.921360</td>\n",
       "      <td>1.978746</td>\n",
       "      <td>2.446334</td>\n",
       "      <td>1.001063</td>\n",
       "      <td>1.912859</td>\n",
       "      <td>0.845002</td>\n",
       "      <td>0.865872</td>\n",
       "      <td>0.907145</td>\n",
       "      <td>73.263274</td>\n",
       "    </tr>\n",
       "    <tr>\n",
       "      <th>std</th>\n",
       "      <td>7.283431e+03</td>\n",
       "      <td>3.126059</td>\n",
       "      <td>0.815796</td>\n",
       "      <td>1.772641</td>\n",
       "      <td>5.446047</td>\n",
       "      <td>0.129352</td>\n",
       "      <td>0.492024</td>\n",
       "      <td>1.124054</td>\n",
       "      <td>2.179888</td>\n",
       "      <td>0.693957</td>\n",
       "      <td>...</td>\n",
       "      <td>0.207148</td>\n",
       "      <td>0.386171</td>\n",
       "      <td>3.227471</td>\n",
       "      <td>4.507268</td>\n",
       "      <td>0.134477</td>\n",
       "      <td>0.370242</td>\n",
       "      <td>0.544869</td>\n",
       "      <td>0.630123</td>\n",
       "      <td>0.281799</td>\n",
       "      <td>3.503042</td>\n",
       "    </tr>\n",
       "    <tr>\n",
       "      <th>min</th>\n",
       "      <td>2.015010e+09</td>\n",
       "      <td>1.000000</td>\n",
       "      <td>1.000000</td>\n",
       "      <td>1.000000</td>\n",
       "      <td>1.000000</td>\n",
       "      <td>1.000000</td>\n",
       "      <td>1.000000</td>\n",
       "      <td>1.000000</td>\n",
       "      <td>1.000000</td>\n",
       "      <td>1.000000</td>\n",
       "      <td>...</td>\n",
       "      <td>1.000000</td>\n",
       "      <td>0.000000</td>\n",
       "      <td>0.000000</td>\n",
       "      <td>0.000000</td>\n",
       "      <td>0.000000</td>\n",
       "      <td>0.000000</td>\n",
       "      <td>0.221003</td>\n",
       "      <td>0.041908</td>\n",
       "      <td>0.346302</td>\n",
       "      <td>70.370370</td>\n",
       "    </tr>\n",
       "    <tr>\n",
       "      <th>25%</th>\n",
       "      <td>2.015020e+09</td>\n",
       "      <td>4.000000</td>\n",
       "      <td>1.000000</td>\n",
       "      <td>2.000000</td>\n",
       "      <td>3.000000</td>\n",
       "      <td>1.000000</td>\n",
       "      <td>1.000000</td>\n",
       "      <td>8.000000</td>\n",
       "      <td>6.000000</td>\n",
       "      <td>1.000000</td>\n",
       "      <td>...</td>\n",
       "      <td>1.000000</td>\n",
       "      <td>3.000000</td>\n",
       "      <td>2.000000</td>\n",
       "      <td>2.000000</td>\n",
       "      <td>1.000000</td>\n",
       "      <td>2.000000</td>\n",
       "      <td>0.406092</td>\n",
       "      <td>0.381779</td>\n",
       "      <td>0.737559</td>\n",
       "      <td>70.370370</td>\n",
       "    </tr>\n",
       "    <tr>\n",
       "      <th>50%</th>\n",
       "      <td>2.015026e+09</td>\n",
       "      <td>6.000000</td>\n",
       "      <td>1.000000</td>\n",
       "      <td>5.000000</td>\n",
       "      <td>3.000000</td>\n",
       "      <td>1.000000</td>\n",
       "      <td>1.000000</td>\n",
       "      <td>9.000000</td>\n",
       "      <td>8.000000</td>\n",
       "      <td>1.000000</td>\n",
       "      <td>...</td>\n",
       "      <td>1.000000</td>\n",
       "      <td>3.000000</td>\n",
       "      <td>2.000000</td>\n",
       "      <td>2.000000</td>\n",
       "      <td>1.000000</td>\n",
       "      <td>2.000000</td>\n",
       "      <td>0.624350</td>\n",
       "      <td>0.729137</td>\n",
       "      <td>0.845267</td>\n",
       "      <td>74.074074</td>\n",
       "    </tr>\n",
       "    <tr>\n",
       "      <th>75%</th>\n",
       "      <td>2.015031e+09</td>\n",
       "      <td>9.000000</td>\n",
       "      <td>1.000000</td>\n",
       "      <td>5.000000</td>\n",
       "      <td>3.000000</td>\n",
       "      <td>1.000000</td>\n",
       "      <td>2.000000</td>\n",
       "      <td>10.000000</td>\n",
       "      <td>9.000000</td>\n",
       "      <td>1.000000</td>\n",
       "      <td>...</td>\n",
       "      <td>1.000000</td>\n",
       "      <td>3.000000</td>\n",
       "      <td>2.000000</td>\n",
       "      <td>3.000000</td>\n",
       "      <td>1.000000</td>\n",
       "      <td>2.000000</td>\n",
       "      <td>1.151432</td>\n",
       "      <td>1.173573</td>\n",
       "      <td>1.068529</td>\n",
       "      <td>74.074074</td>\n",
       "    </tr>\n",
       "    <tr>\n",
       "      <th>max</th>\n",
       "      <td>2.015037e+09</td>\n",
       "      <td>12.000000</td>\n",
       "      <td>3.000000</td>\n",
       "      <td>6.000000</td>\n",
       "      <td>99.000000</td>\n",
       "      <td>2.000000</td>\n",
       "      <td>3.000000</td>\n",
       "      <td>10.000000</td>\n",
       "      <td>10.000000</td>\n",
       "      <td>3.000000</td>\n",
       "      <td>...</td>\n",
       "      <td>3.000000</td>\n",
       "      <td>3.000000</td>\n",
       "      <td>99.000000</td>\n",
       "      <td>99.000000</td>\n",
       "      <td>2.000000</td>\n",
       "      <td>2.000000</td>\n",
       "      <td>4.836112</td>\n",
       "      <td>3.432999</td>\n",
       "      <td>3.458004</td>\n",
       "      <td>85.185185</td>\n",
       "    </tr>\n",
       "  </tbody>\n",
       "</table>\n",
       "<p>8 rows × 69 columns</p>\n",
       "</div>"
      ],
      "text/plain": [
       "             NFCSID  Gender/AgeNet  MaritalStatusVariable  Dependents  \\\n",
       "count  9.410000e+02     941.000000             941.000000  941.000000   \n",
       "mean   2.015025e+09       6.462274               1.458023    4.240170   \n",
       "std    7.283431e+03       3.126059               0.815796    1.772641   \n",
       "min    2.015010e+09       1.000000               1.000000    1.000000   \n",
       "25%    2.015020e+09       4.000000               1.000000    2.000000   \n",
       "50%    2.015026e+09       6.000000               1.000000    5.000000   \n",
       "75%    2.015031e+09       9.000000               1.000000    5.000000   \n",
       "max    2.015037e+09      12.000000               3.000000    6.000000   \n",
       "\n",
       "       USVeteran?          X3  HouseholdRetirementStatus  \\\n",
       "count  941.000000  941.000000                 941.000000   \n",
       "mean     3.080765    1.017003                   1.370882   \n",
       "std      5.446047    0.129352                   0.492024   \n",
       "min      1.000000    1.000000                   1.000000   \n",
       "25%      3.000000    1.000000                   1.000000   \n",
       "50%      3.000000    1.000000                   1.000000   \n",
       "75%      3.000000    1.000000                   2.000000   \n",
       "max     99.000000    2.000000                   3.000000   \n",
       "\n",
       "       SatisfactionLevelCurrentFinances  WillingnessFinancialRisk  \\\n",
       "count                        941.000000                941.000000   \n",
       "mean                           8.775770                  7.163656   \n",
       "std                            1.124054                  2.179888   \n",
       "min                            1.000000                  1.000000   \n",
       "25%                            8.000000                  6.000000   \n",
       "50%                            9.000000                  8.000000   \n",
       "75%                           10.000000                  9.000000   \n",
       "max                           10.000000                 10.000000   \n",
       "\n",
       "       SpendingVsIncome           ...            FinancialTestQ1  \\\n",
       "count        941.000000           ...                 941.000000   \n",
       "mean           1.302869           ...                   1.026567   \n",
       "std            0.693957           ...                   0.207148   \n",
       "min            1.000000           ...                   1.000000   \n",
       "25%            1.000000           ...                   1.000000   \n",
       "50%            1.000000           ...                   1.000000   \n",
       "75%            1.000000           ...                   1.000000   \n",
       "max            3.000000           ...                   3.000000   \n",
       "\n",
       "       FinancialTestQ2  FinancialTestQ3  FinancialTestQ4  FinancialTestQ5  \\\n",
       "count       941.000000       941.000000       941.000000       941.000000   \n",
       "mean          2.921360         1.978746         2.446334         1.001063   \n",
       "std           0.386171         3.227471         4.507268         0.134477   \n",
       "min           0.000000         0.000000         0.000000         0.000000   \n",
       "25%           3.000000         2.000000         2.000000         1.000000   \n",
       "50%           3.000000         2.000000         2.000000         1.000000   \n",
       "75%           3.000000         2.000000         3.000000         1.000000   \n",
       "max           3.000000        99.000000        99.000000         2.000000   \n",
       "\n",
       "       FinancialTestQ6  \\\n",
       "count       941.000000   \n",
       "mean          1.912859   \n",
       "std           0.370242   \n",
       "min           0.000000   \n",
       "25%           2.000000   \n",
       "50%           2.000000   \n",
       "75%           2.000000   \n",
       "max           2.000000   \n",
       "\n",
       "       NationalWeightByAgeGenderEthnicityEducationCensusDivision  \\\n",
       "count                                         941.000000           \n",
       "mean                                            0.845002           \n",
       "std                                             0.544869           \n",
       "min                                             0.221003           \n",
       "25%                                             0.406092           \n",
       "50%                                             0.624350           \n",
       "75%                                             1.151432           \n",
       "max                                             4.836112           \n",
       "\n",
       "       DivisionalWeightByAgeGenderEthnicityEducationState  \\\n",
       "count                                         941.000000    \n",
       "mean                                            0.865872    \n",
       "std                                             0.630123    \n",
       "min                                             0.041908    \n",
       "25%                                             0.381779    \n",
       "50%                                             0.729137    \n",
       "75%                                             1.173573    \n",
       "max                                             3.432999    \n",
       "\n",
       "       StateWeightByAgeGenderEthnicityEducation  financialliteracyscore  \n",
       "count                                941.000000              941.000000  \n",
       "mean                                   0.907145               73.263274  \n",
       "std                                    0.281799                3.503042  \n",
       "min                                    0.346302               70.370370  \n",
       "25%                                    0.737559               70.370370  \n",
       "50%                                    0.845267               74.074074  \n",
       "75%                                    1.068529               74.074074  \n",
       "max                                    3.458004               85.185185  \n",
       "\n",
       "[8 rows x 69 columns]"
      ]
     },
     "execution_count": 9,
     "metadata": {},
     "output_type": "execute_result"
    }
   ],
   "source": [
    "top_2.describe()"
   ]
  },
  {
   "cell_type": "markdown",
   "metadata": {},
   "source": [
    "____________________________________________________\n",
    "## Comparing Household Income"
   ]
  },
  {
   "cell_type": "markdown",
   "metadata": {},
   "source": [
    "As mentioned before, I will first verify that my financial literacy metric is a reliable one, by comparing it with certain attributes that weren't used to calculate the metric. First, I will compare their household income.  \n",
    "\n",
    "_As a side note: since we're dealing with uneven sample sizes, metrics will be determined in relative terms, i.e. percentages._"
   ]
  },
  {
   "cell_type": "code",
   "execution_count": 10,
   "metadata": {},
   "outputs": [],
   "source": [
    "def percent_calculator(df, **kwargs):\n",
    "    for key, value in kwargs.items():\n",
    "        if key == 'column':\n",
    "            label = value\n",
    "        if key == 'response':\n",
    "            response = value\n",
    "    numerator = df[df[label] == response][label].count()\n",
    "    no_nulls = df[df[label] != 99]\n",
    "    denominator = no_nulls[label].count()\n",
    "    return rounding(numerator*1.0/denominator * 100)"
   ]
  },
  {
   "cell_type": "code",
   "execution_count": 11,
   "metadata": {},
   "outputs": [
    {
     "data": {
      "text/plain": [
       "<matplotlib.axes._subplots.AxesSubplot at 0x7f8e74759f60>"
      ]
     },
     "execution_count": 11,
     "metadata": {},
     "output_type": "execute_result"
    }
   ],
   "source": [
    "income_98 = bottom_98['HouseholdIncome']\n",
    "income_98.value_counts().plot('bar')"
   ]
  },
  {
   "cell_type": "code",
   "execution_count": 12,
   "metadata": {},
   "outputs": [
    {
     "data": {
      "text/plain": [
       "<matplotlib.axes._subplots.AxesSubplot at 0x7f8e741d2a90>"
      ]
     },
     "execution_count": 12,
     "metadata": {},
     "output_type": "execute_result"
    },
    {
     "data": {
      "image/png": "[encoded data removed]",
      "text/plain": [
       "<Figure size 432x288 with 1 Axes>"
      ]
     },
     "metadata": {},
     "output_type": "display_data"
    }
   ],
   "source": [
    "income_2 = top_2['HouseholdIncome']\n",
    "income_2.value_counts().plot('bar')"
   ]
  },
  {
   "cell_type": "code",
   "execution_count": 13,
   "metadata": {},
   "outputs": [
    {
     "data": {
      "text/plain": [
       "[50k, 75k)      0.205875\n",
       "[35k, 50k)      0.150133\n",
       "[70k, 100k)     0.133569\n",
       "[0, 15K)        0.118694\n",
       "[100k, 150k)    0.115915\n",
       "[15k, 25k)      0.112046\n",
       "[25k, 35k)      0.111783\n",
       "150k+           0.051985\n",
       "Name: HouseholdIncome, dtype: float64"
      ]
     },
     "execution_count": 13,
     "metadata": {},
     "output_type": "execute_result"
    }
   ],
   "source": [
    "income_98.value_counts(normalize = True)\n"
   ]
  },
  {
   "cell_type": "code",
   "execution_count": 14,
   "metadata": {},
   "outputs": [
    {
     "data": {
      "text/plain": [
       "[100k, 150k)    0.299681\n",
       "150k+           0.243358\n",
       "[70k, 100k)     0.200850\n",
       "[50k, 75k)      0.179596\n",
       "[35k, 50k)      0.056323\n",
       "[25k, 35k)      0.013815\n",
       "[15k, 25k)      0.004251\n",
       "[0, 15K)        0.002125\n",
       "Name: HouseholdIncome, dtype: float64"
      ]
     },
     "execution_count": 14,
     "metadata": {},
     "output_type": "execute_result"
    }
   ],
   "source": [
    "income_2.value_counts(normalize = True)"
   ]
  },
  {
   "cell_type": "code",
   "execution_count": 15,
   "metadata": {},
   "outputs": [
    {
     "name": "stdout",
     "output_type": "stream",
     "text": [
      "Percent of low-income surveyees from the bottom 98%: 34.25%\n",
      "Percent of low-income surveyees from the top 2%: 2.02%\n"
     ]
    }
   ],
   "source": [
    "print(f'Percent of low-income surveyees from the bottom 98%: {rounding((0.118694 + 0.112046+ 0.111783)*100)}%')\n",
    "print(f'Percent of low-income surveyees from the top 2%: {rounding((0.002125 + 0.004251 + 0.013815)*100)}%')"
   ]
  },
  {
   "cell_type": "code",
   "execution_count": 16,
   "metadata": {},
   "outputs": [
    {
     "name": "stdout",
     "output_type": "stream",
     "text": [
      "Percent of surveyees with income more than 100K from the bottom 98%: 16.79%\n",
      "Percent of surveyees with income more than 100K from the top 2%: 54.30%\n"
     ]
    }
   ],
   "source": [
    "print(f'Percent of surveyees with income more than 100K from the bottom 98%: {rounding((0.115915 +0.051985)*100)}%')\n",
    "print(f'Percent of surveyees with income more than 100K from the top 2%: {rounding((0.299681 + 0.243358)*100)}%')"
   ]
  },
  {
   "cell_type": "markdown",
   "metadata": {},
   "source": [
    "Those in the top 2% significantly earn more money than the bottom 98%.  Since income typically correlates with financial literacy, we're off to a good start.\n",
    "___________________________________________________________________\n",
    "\n",
    "## Comparing Level of Education"
   ]
  },
  {
   "cell_type": "code",
   "execution_count": 17,
   "metadata": {},
   "outputs": [
    {
     "data": {
      "text/plain": [
       "College, no degree     0.284866\n",
       "Bachelor's             0.225482\n",
       "HS diploma             0.165045\n",
       "Post Graduate          0.128686\n",
       "Associate's            0.110356\n",
       "GED or alternative     0.063366\n",
       "Did not complete HS    0.022199\n",
       "Name: HighestLevelEducation, dtype: float64"
      ]
     },
     "execution_count": 17,
     "metadata": {},
     "output_type": "execute_result"
    }
   ],
   "source": [
    "education_98 = bottom_98['HighestLevelEducation']\n",
    "education_2 = top_2['HighestLevelEducation']\n",
    "education_98.value_counts(normalize = True)\n"
   ]
  },
  {
   "cell_type": "code",
   "execution_count": 18,
   "metadata": {},
   "outputs": [
    {
     "data": {
      "text/plain": [
       "Post Graduate         0.341126\n",
       "Bachelor's            0.334750\n",
       "College, no degree    0.164718\n",
       "Associate's           0.091392\n",
       "HS diploma            0.056323\n",
       "GED or alternative    0.011690\n",
       "Name: HighestLevelEducation, dtype: float64"
      ]
     },
     "execution_count": 18,
     "metadata": {},
     "output_type": "execute_result"
    }
   ],
   "source": [
    "education_2.value_counts(normalize=True)"
   ]
  },
  {
   "cell_type": "code",
   "execution_count": 19,
   "metadata": {},
   "outputs": [
    {
     "name": "stdout",
     "output_type": "stream",
     "text": [
      "Percent of surveyees from bottom 98% who did not attend college: 53.55%\n"
     ]
    }
   ],
   "source": [
    "print(f'Percent of surveyees from bottom 98% who did not attend college: {rounding((0.284866+ 0.165045+ 0.022199+0.063366)*100)}%')"
   ]
  },
  {
   "cell_type": "code",
   "execution_count": 20,
   "metadata": {},
   "outputs": [
    {
     "name": "stdout",
     "output_type": "stream",
     "text": [
      "Percent of surveyees from top 2% who did not attend college: 23.27%\n"
     ]
    }
   ],
   "source": [
    "print(f'Percent of surveyees from top 2% who did not attend college: {rounding((0.164718+ 0.056323+0.011690 )*100)}%')"
   ]
  },
  {
   "cell_type": "markdown",
   "metadata": {},
   "source": [
    "According to the percentages above, those in the top 2% are relatively more educated. This correlates nicely with the financial literacy metric. "
   ]
  },
  {
   "cell_type": "markdown",
   "metadata": {},
   "source": [
    "__________________________________________________________________\n",
    "\n",
    "## Comparing Financial Education"
   ]
  },
  {
   "cell_type": "code",
   "execution_count": 21,
   "metadata": {},
   "outputs": [],
   "source": [
    "target = [\"FinancialEducationOfferedAtSchoolOrWork?\", \n",
    "          \"ReceiveFinancialEducationInHighSchool?\",\n",
    "          \"ReceiveFinancialEducationInCollege?\", \n",
    "          \"ReceiveFinancialEducationFromWork?\",\n",
    "          \"ReceiveFinancialEducationFromMilitary?\",\n",
    "          \"ParentsTeachYouAboutFinance?\",\n",
    "         ]"
   ]
  },
  {
   "cell_type": "code",
   "execution_count": 42,
   "metadata": {
    "scrolled": true
   },
   "outputs": [
    {
     "data": {
      "text/plain": [
       "Text(0,12000,'0 = IDK\\n1 = Yes, but did not participate \\n2 = Yes, and participate \\n3 = No')"
      ]
     },
     "execution_count": 42,
     "metadata": {},
     "output_type": "execute_result"
    },
    {
     "data": {
      "image/png": "[encoded data removed]",
      "text/plain": [
       "<Figure size 432x288 with 1 Axes>"
      ]
     },
     "metadata": {},
     "output_type": "display_data"
    }
   ],
   "source": [
    "fin_ed_98 = bottom_98[target]\n",
    "\n",
    "fin_ed_98 = fin_ed_98[fin_ed_98['FinancialEducationOfferedAtSchoolOrWork?']!= 99]\n",
    "# fin_ed_98.hist(column = \"FinancialEducationOfferedAtSchoolOrWork?\")\n",
    "import matplotlib.pyplot as plt\n",
    "\n",
    "plt.hist(fin_ed_98['FinancialEducationOfferedAtSchoolOrWork?'])\n",
    "plt.xlabel('Responses')\n",
    "plt.ylabel('Frequency')\n",
    "plt.text(0, 12000, '0 = IDK\\n1 = Yes, but did not participate \\n2 = Yes, and participate \\n3 = No')"
   ]
  },
  {
   "cell_type": "code",
   "execution_count": 70,
   "metadata": {},
   "outputs": [
    {
     "data": {
      "text/plain": [
       "Text(0,350,'0 = IDK\\n1 = Yes, but did not participate \\n2 = Yes, and participate \\n3 = No')"
      ]
     },
     "execution_count": 70,
     "metadata": {},
     "output_type": "execute_result"
    },
    {
     "data": {
      "image/png": "[encoded data removed]",
      "text/plain": [
       "<Figure size 432x288 with 1 Axes>"
      ]
     },
     "metadata": {},
     "output_type": "display_data"
    }
   ],
   "source": [
    "fin_ed_2 = top_2[target]\n",
    "fin_ed_2 = fin_ed_2[fin_ed_2['FinancialEducationOfferedAtSchoolOrWork?']!=99]\n",
    "\n",
    "plt.hist(fin_ed_2['FinancialEducationOfferedAtSchoolOrWork?'])\n",
    "plt.xlabel('Responses')\n",
    "plt.ylabel('Frequency')\n",
    "plt.text(0, 350, '0 = IDK\\n1 = Yes, but did not participate \\n2 = Yes, and participate \\n3 = No')"
   ]
  },
  {
   "cell_type": "code",
   "execution_count": 48,
   "metadata": {},
   "outputs": [
    {
     "data": {
      "text/plain": [
       "3    0.467021\n",
       "2    0.402128\n",
       "1    0.081915\n",
       "0    0.048936\n",
       "Name: FinancialEducationOfferedAtSchoolOrWork?, dtype: float64"
      ]
     },
     "execution_count": 48,
     "metadata": {},
     "output_type": "execute_result"
    }
   ],
   "source": [
    "fin_ed_2['FinancialEducationOfferedAtSchoolOrWork?'].value_counts(normalize=True)"
   ]
  },
  {
   "cell_type": "code",
   "execution_count": 49,
   "metadata": {},
   "outputs": [
    {
     "data": {
      "text/plain": [
       "3    0.588611\n",
       "2    0.212364\n",
       "1    0.099683\n",
       "0    0.099343\n",
       "Name: FinancialEducationOfferedAtSchoolOrWork?, dtype: float64"
      ]
     },
     "execution_count": 49,
     "metadata": {},
     "output_type": "execute_result"
    }
   ],
   "source": [
    "fin_ed_98['FinancialEducationOfferedAtSchoolOrWork?'].value_counts(normalize=True)"
   ]
  },
  {
   "cell_type": "markdown",
   "metadata": {},
   "source": [
    "**40% of the top 2** received financial education from school/work, and only **21% of the bottom 98** received financial education from school/work. \n"
   ]
  },
  {
   "cell_type": "code",
   "execution_count": 61,
   "metadata": {},
   "outputs": [
    {
     "data": {
      "text/plain": [
       "Text(0,12000,'0 = IDK\\n1 = Yes\\n2 = No')"
      ]
     },
     "execution_count": 61,
     "metadata": {},
     "output_type": "execute_result"
    },
    {
     "data": {
      "image/png": "[encoded data removed]",
      "text/plain": [
       "<Figure size 432x288 with 1 Axes>"
      ]
     },
     "metadata": {},
     "output_type": "display_data"
    }
   ],
   "source": [
    "fin_ed_98 = bottom_98[target]\n",
    "fin_ed_copy_98=fin_ed_98.copy()\n",
    "fin_ed_copy_98 = fin_ed_copy_98[fin_ed_copy_98['ParentsTeachYouAboutFinance?'] != 99]\n",
    "\n",
    "plt.hist(fin_ed_copy_98[\"ParentsTeachYouAboutFinance?\"])\n",
    "plt.xlabel('Responses')\n",
    "plt.ylabel('Frequency')\n",
    "plt.text(0, 12000, '0 = IDK\\n1 = Yes\\n2 = No')\n"
   ]
  },
  {
   "cell_type": "code",
   "execution_count": 63,
   "metadata": {},
   "outputs": [
    {
     "data": {
      "text/plain": [
       "Text(0,600,'0 = IDK\\n1 = Yes\\n2 = No')"
      ]
     },
     "execution_count": 63,
     "metadata": {},
     "output_type": "execute_result"
    },
    {
     "data": {
      "image/png": "[encoded data removed]",
      "text/plain": [
       "<Figure size 432x288 with 1 Axes>"
      ]
     },
     "metadata": {},
     "output_type": "display_data"
    }
   ],
   "source": [
    "fin_ed_2 = top_2[target]\n",
    "fin_ed_copy_2=fin_ed_2.copy()\n",
    "fin_ed_copy_2 = fin_ed_copy_2[fin_ed_copy_2['ParentsTeachYouAboutFinance?'] != 99]\n",
    "\n",
    "plt.hist(fin_ed_copy_2[\"ParentsTeachYouAboutFinance?\"])\n",
    "plt.xlabel('Responses')\n",
    "plt.ylabel('Frequency')\n",
    "plt.text(0, 600, '0 = IDK\\n1 = Yes\\n2 = No')"
   ]
  },
  {
   "cell_type": "code",
   "execution_count": 66,
   "metadata": {},
   "outputs": [
    {
     "data": {
      "text/plain": [
       "2    0.518070\n",
       "1    0.452904\n",
       "0    0.029026\n",
       "Name: ParentsTeachYouAboutFinance?, dtype: float64"
      ]
     },
     "execution_count": 66,
     "metadata": {},
     "output_type": "execute_result"
    }
   ],
   "source": [
    "fin_ed_copy_98['ParentsTeachYouAboutFinance?'].value_counts(normalize=True)"
   ]
  },
  {
   "cell_type": "code",
   "execution_count": 67,
   "metadata": {},
   "outputs": [
    {
     "data": {
      "text/plain": [
       "1    0.726886\n",
       "2    0.270988\n",
       "0    0.002125\n",
       "Name: ParentsTeachYouAboutFinance?, dtype: float64"
      ]
     },
     "execution_count": 67,
     "metadata": {},
     "output_type": "execute_result"
    }
   ],
   "source": [
    "fin_ed_copy_2['ParentsTeachYouAboutFinance?'].value_counts(normalize=True)"
   ]
  },
  {
   "cell_type": "markdown",
   "metadata": {},
   "source": [
    "**45% from the bottom 98** claimed that their parents taught them about finance, as opposed to **73% from the top 2** "
   ]
  },
  {
   "cell_type": "markdown",
   "metadata": {},
   "source": [
    "________________________________________________\n",
    "\n",
    "So far, I have demonstrated stark constrasts between the two groups by comparing attributes that weren't included in my financial literacy metric.  This means that I am on the right track in terms of verifying that this partition makes sense. I have two more comparisons to make, the next one being owning a home.\n",
    "\n",
    "## Comparing Home Ownership"
   ]
  },
  {
   "cell_type": "code",
   "execution_count": 72,
   "metadata": {},
   "outputs": [
    {
     "data": {
      "text/plain": [
       "Text(0,12000,'0 = IDK\\n1 = Yes\\n2 = No')"
      ]
     },
     "execution_count": 72,
     "metadata": {},
     "output_type": "execute_result"
    },
    {
     "data": {
      "image/png": "[encoded data removed]",
      "text/plain": [
       "<Figure size 432x288 with 1 Axes>"
      ]
     },
     "metadata": {},
     "output_type": "display_data"
    }
   ],
   "source": [
    "copy_bottom_98 = bottom_98.copy()\n",
    "copy_bottom_98 = copy_bottom_98[copy_bottom_98['OwnHome?']!=99]\n",
    "plt.hist(copy_bottom_98[\"OwnHome?\"])\n",
    "plt.xlabel('Responses')\n",
    "plt.ylabel('Frequency')\n",
    "plt.text(0, 12000, '0 = IDK\\n1 = Yes\\n2 = No')"
   ]
  },
  {
   "cell_type": "code",
   "execution_count": 74,
   "metadata": {},
   "outputs": [
    {
     "data": {
      "text/plain": [
       "Text(0,300,'0 = IDK\\n1 = Yes\\n2 = No')"
      ]
     },
     "execution_count": 74,
     "metadata": {},
     "output_type": "execute_result"
    },
    {
     "data": {
      "image/png": "[encoded data removed]",
      "text/plain": [
       "<Figure size 432x288 with 1 Axes>"
      ]
     },
     "metadata": {},
     "output_type": "display_data"
    }
   ],
   "source": [
    "copy_top_2 = top_2.copy()\n",
    "copy_top_2 = copy_top_2[copy_top_2['OwnHome?']!=99]\n",
    "plt.hist(copy_top_2[\"OwnHome?\"])\n",
    "plt.xlabel('Responses')\n",
    "plt.ylabel('Frequency')\n",
    "plt.text(0, 300, '0 = IDK\\n1 = Yes\\n2 = No')"
   ]
  },
  {
   "cell_type": "code",
   "execution_count": 78,
   "metadata": {},
   "outputs": [
    {
     "data": {
      "text/plain": [
       "1    0.61616\n",
       "2    0.37946\n",
       "0    0.00438\n",
       "Name: OwnHome?, dtype: float64"
      ]
     },
     "execution_count": 78,
     "metadata": {},
     "output_type": "execute_result"
    }
   ],
   "source": [
    "copy_bottom_98['OwnHome?'].value_counts(normalize =True)\n"
   ]
  },
  {
   "cell_type": "code",
   "execution_count": 76,
   "metadata": {},
   "outputs": [
    {
     "data": {
      "text/plain": [
       "1    0.928799\n",
       "2    0.070138\n",
       "0    0.001063\n",
       "Name: OwnHome?, dtype: float64"
      ]
     },
     "execution_count": 76,
     "metadata": {},
     "output_type": "execute_result"
    }
   ],
   "source": [
    "copy_top_2['OwnHome?'].value_counts(normalize=True)"
   ]
  },
  {
   "cell_type": "markdown",
   "metadata": {},
   "source": [
    "**38% of the bottom 98** don't own a home, as opposed to **7% of the top 2**.\n",
    "\n",
    "______________________________________________________________\n",
    "\n",
    "## Comparing Math Ability\n",
    "\n",
    "This is the last attribute I will use to compare the split and hopefully will be able to validate my partitioning."
   ]
  },
  {
   "cell_type": "code",
   "execution_count": 81,
   "metadata": {},
   "outputs": [
    {
     "data": {
      "text/plain": [
       "Text(0,8000,'0 = IDK\\n1 = Strongly Disagree \\n4 = Neither agree nor disagree \\n7 = Strongly Agree')"
      ]
     },
     "execution_count": 81,
     "metadata": {},
     "output_type": "execute_result"
    },
    {
     "data": {
      "image/png": "[encoded data removed]",
      "text/plain": [
       "<Figure size 432x288 with 1 Axes>"
      ]
     },
     "metadata": {},
     "output_type": "display_data"
    }
   ],
   "source": [
    "copy_math_98 = bottom_98[bottom_98['GoodAtMath?']!=99]\n",
    "plt.hist(copy_math_98[\"GoodAtMath?\"])\n",
    "plt.xlabel('Responses')\n",
    "plt.ylabel('Frequency')\n",
    "plt.text(0, 8000, '0 = IDK\\n1 = Strongly Disagree \\n4 = Neither agree nor disagree \\n7 = Strongly Agree')"
   ]
  },
  {
   "cell_type": "code",
   "execution_count": 83,
   "metadata": {},
   "outputs": [
    {
     "data": {
      "text/plain": [
       "Text(1,600,'0 = IDK\\n1 = Strongly Disagree \\n4 = Neither agree nor disagree \\n7 = Strongly Agree')"
      ]
     },
     "execution_count": 83,
     "metadata": {},
     "output_type": "execute_result"
    },
    {
     "data": {
      "image/png": "[encoded data removed]",
      "text/plain": [
       "<Figure size 432x288 with 1 Axes>"
      ]
     },
     "metadata": {},
     "output_type": "display_data"
    }
   ],
   "source": [
    "copy_math_2 =top_2[top_2['GoodAtMath?']!=99]\n",
    "plt.hist(copy_math_2[\"GoodAtMath?\"])\n",
    "plt.xlabel('Responses')\n",
    "plt.ylabel('Frequency')\n",
    "plt.text(1, 600, '0 = IDK\\n1 = Strongly Disagree \\n4 = Neither agree nor disagree \\n7 = Strongly Agree')"
   ]
  },
  {
   "cell_type": "code",
   "execution_count": 84,
   "metadata": {},
   "outputs": [
    {
     "data": {
      "text/plain": [
       "7    0.391393\n",
       "6    0.256746\n",
       "5    0.145802\n",
       "4    0.105781\n",
       "3    0.039833\n",
       "1    0.034255\n",
       "2    0.022159\n",
       "0    0.004032\n",
       "Name: GoodAtMath?, dtype: float64"
      ]
     },
     "execution_count": 84,
     "metadata": {},
     "output_type": "execute_result"
    }
   ],
   "source": [
    "copy_math_98['GoodAtMath?'].value_counts(normalize=True)"
   ]
  },
  {
   "cell_type": "code",
   "execution_count": 85,
   "metadata": {},
   "outputs": [
    {
     "data": {
      "text/plain": [
       "7    0.847872\n",
       "6    0.098936\n",
       "5    0.037234\n",
       "4    0.009574\n",
       "1    0.003191\n",
       "3    0.002128\n",
       "2    0.001064\n",
       "Name: GoodAtMath?, dtype: float64"
      ]
     },
     "execution_count": 85,
     "metadata": {},
     "output_type": "execute_result"
    }
   ],
   "source": [
    "copy_math_2['GoodAtMath?'].value_counts(normalize=True)"
   ]
  },
  {
   "cell_type": "code",
   "execution_count": 89,
   "metadata": {},
   "outputs": [
    {
     "data": {
      "text/plain": [
       "{'whiskers': [<matplotlib.lines.Line2D at 0x7f8e4edf2940>,\n",
       "  <matplotlib.lines.Line2D at 0x7f8e4edf2dd8>,\n",
       "  <matplotlib.lines.Line2D at 0x7f8e4ed80748>,\n",
       "  <matplotlib.lines.Line2D at 0x7f8e4ed80b70>],\n",
       " 'caps': [<matplotlib.lines.Line2D at 0x7f8e4edf8240>,\n",
       "  <matplotlib.lines.Line2D at 0x7f8e4edf8668>,\n",
       "  <matplotlib.lines.Line2D at 0x7f8e4ed80f98>,\n",
       "  <matplotlib.lines.Line2D at 0x7f8e4ed89400>],\n",
       " 'boxes': [<matplotlib.lines.Line2D at 0x7f8e4edf27f0>,\n",
       "  <matplotlib.lines.Line2D at 0x7f8e4ed802e8>],\n",
       " 'medians': [<matplotlib.lines.Line2D at 0x7f8e4edf8a90>,\n",
       "  <matplotlib.lines.Line2D at 0x7f8e4ed89828>],\n",
       " 'fliers': [<matplotlib.lines.Line2D at 0x7f8e4edf8eb8>,\n",
       "  <matplotlib.lines.Line2D at 0x7f8e4ed89c50>],\n",
       " 'means': []}"
      ]
     },
     "execution_count": 89,
     "metadata": {},
     "output_type": "execute_result"
    },
    {
     "data": {
      "image/png": "[encoded data removed]",
      "text/plain": [
       "<Figure size 432x288 with 1 Axes>"
      ]
     },
     "metadata": {},
     "output_type": "display_data"
    }
   ],
   "source": [
    "\n",
    "plt.boxplot([copy_math_98['GoodAtMath?'], \n",
    "            copy_math_2['GoodAtMath?']], labels=['Bottom 98', 'Top 2'])"
   ]
  },
  {
   "cell_type": "markdown",
   "metadata": {},
   "source": [
    "**39% of the bottom 98** claim strongly that they're good at math, as opposed to **85% of the top 2**. Furthermore, the spread of responses is much larger from the bottom 98 when examining the box plot and histograms directly above."
   ]
  },
  {
   "cell_type": "markdown",
   "metadata": {},
   "source": [
    "## Most Americans are worried about retirement"
   ]
  },
  {
   "cell_type": "code",
   "execution_count": 36,
   "metadata": {},
   "outputs": [],
   "source": [
    "data = df.loc[df['DegreeOfWorryAboutRetirement'] <= 7]\n"
   ]
  },
  {
   "cell_type": "code",
   "execution_count": 37,
   "metadata": {
    "scrolled": true
   },
   "outputs": [
    {
     "data": {
      "text/plain": [
       "<matplotlib.axes._subplots.AxesSubplot at 0x7f0df617b828>"
      ]
     },
     "execution_count": 37,
     "metadata": {},
     "output_type": "execute_result"
    },
    {
     "data": {
      "image/png": "[encoded data removed]",
      "text/plain": [
       "<Figure size 432x288 with 1 Axes>"
      ]
     },
     "metadata": {},
     "output_type": "display_data"
    }
   ],
   "source": [
    "data.boxplot(column='DegreeOfWorryAboutRetirement', by=\"AgeGroup\", showmeans=True)\n"
   ]
  },
  {
   "cell_type": "markdown",
   "metadata": {},
   "source": [
    "_______________________________________________________________________\n"
   ]
  },
  {
   "cell_type": "markdown",
   "metadata": {},
   "source": [
    "## Most Americans own a savings account."
   ]
  },
  {
   "cell_type": "code",
   "execution_count": null,
   "metadata": {},
   "outputs": [],
   "source": [
    "data = df.loc[df['SavingsAccount?'] <= 2]"
   ]
  },
  {
   "cell_type": "markdown",
   "metadata": {},
   "source": [
    "Code like right above is just acquiring the values from the dataframe that only have 1 (i.e. 'yes') or 2 (i.e. 'no').  "
   ]
  },
  {
   "cell_type": "code",
   "execution_count": 41,
   "metadata": {},
   "outputs": [
    {
     "data": {
      "text/plain": [
       "array([[<matplotlib.axes._subplots.AxesSubplot object at 0x7f0df575d5c0>]],\n",
       "      dtype=object)"
      ]
     },
     "execution_count": 41,
     "metadata": {},
     "output_type": "execute_result"
    },
    {
     "data": {
      "image/png": "[encoded data removed]",
      "text/plain": [
       "<Figure size 432x288 with 1 Axes>"
      ]
     },
     "metadata": {},
     "output_type": "display_data"
    }
   ],
   "source": [
    "data.hist(column = 'SavingsAccount?')"
   ]
  },
  {
   "cell_type": "markdown",
   "metadata": {},
   "source": [
    "______________________________________________________________________"
   ]
  },
  {
   "cell_type": "code",
   "execution_count": null,
   "metadata": {},
   "outputs": [],
   "source": [
    "data = df.loc[df['OwnHome?'] <= 2]"
   ]
  },
  {
   "cell_type": "code",
   "execution_count": 44,
   "metadata": {},
   "outputs": [
    {
     "data": {
      "text/plain": [
       "array([[<matplotlib.axes._subplots.AxesSubplot object at 0x7f0df1d10b38>]],\n",
       "      dtype=object)"
      ]
     },
     "execution_count": 44,
     "metadata": {},
     "output_type": "execute_result"
    },
    {
     "data": {
      "image/png": "[encoded data removed]",
      "text/plain": [
       "<Figure size 432x288 with 1 Axes>"
      ]
     },
     "metadata": {},
     "output_type": "display_data"
    }
   ],
   "source": [
    "data.hist(column = 'OwnHome?')"
   ]
  },
  {
   "cell_type": "code",
   "execution_count": 45,
   "metadata": {},
   "outputs": [
    {
     "data": {
      "text/plain": [
       "count    27309.000000\n",
       "mean         1.370427\n",
       "std          0.482928\n",
       "min          1.000000\n",
       "25%          1.000000\n",
       "50%          1.000000\n",
       "75%          2.000000\n",
       "max          2.000000\n",
       "Name: OwnHome?, dtype: float64"
      ]
     },
     "execution_count": 45,
     "metadata": {},
     "output_type": "execute_result"
    }
   ],
   "source": [
    "data['OwnHome?'].describe()"
   ]
  },
  {
   "cell_type": "code",
   "execution_count": 51,
   "metadata": {},
   "outputs": [],
   "source": [
    "own_home= data.loc[data['OwnHome?'] == 1]['OwnHome?'].count()"
   ]
  },
  {
   "cell_type": "code",
   "execution_count": 52,
   "metadata": {},
   "outputs": [],
   "source": [
    "rent_home = data.loc[data['OwnHome?'] == 2]['OwnHome?'].count()"
   ]
  },
  {
   "cell_type": "code",
   "execution_count": 55,
   "metadata": {},
   "outputs": [],
   "source": [
    "stats = own_home/(float(rent_home)+own_home)*100"
   ]
  },
  {
   "cell_type": "code",
   "execution_count": 56,
   "metadata": {},
   "outputs": [
    {
     "data": {
      "text/plain": [
       "62.9572668351093"
      ]
     },
     "execution_count": 56,
     "metadata": {},
     "output_type": "execute_result"
    }
   ],
   "source": [
    "stats\n"
   ]
  },
  {
   "cell_type": "markdown",
   "metadata": {},
   "source": [
    "Noteworthy to point out that 63% of surveyees own a home. It is worth investigating: is there a difference between the financial literacy score between those who own a home and those who do not? Let's find out..."
   ]
  },
  {
   "cell_type": "code",
   "execution_count": 58,
   "metadata": {},
   "outputs": [],
   "source": [
    "df_owners = data.loc[data['OwnHome?'] == 1]"
   ]
  },
  {
   "cell_type": "code",
   "execution_count": 59,
   "metadata": {},
   "outputs": [],
   "source": [
    "df_renters = data.loc[data['OwnHome?']==2]"
   ]
  },
  {
   "cell_type": "code",
   "execution_count": 60,
   "metadata": {},
   "outputs": [
    {
     "data": {
      "text/plain": [
       "array([[<matplotlib.axes._subplots.AxesSubplot object at 0x7f0df1bf4358>]],\n",
       "      dtype=object)"
      ]
     },
     "execution_count": 60,
     "metadata": {},
     "output_type": "execute_result"
    },
    {
     "data": {
      "image/png": "[encoded data removed]",
      "text/plain": [
       "<Figure size 432x288 with 1 Axes>"
      ]
     },
     "metadata": {},
     "output_type": "display_data"
    }
   ],
   "source": [
    "df_owners.hist(column = 'financialliteracyscore')"
   ]
  },
  {
   "cell_type": "code",
   "execution_count": 61,
   "metadata": {},
   "outputs": [
    {
     "data": {
      "text/plain": [
       "array([[<matplotlib.axes._subplots.AxesSubplot object at 0x7f0df1bb9358>]],\n",
       "      dtype=object)"
      ]
     },
     "execution_count": 61,
     "metadata": {},
     "output_type": "execute_result"
    },
    {
     "data": {
      "image/png": "[encoded data removed]",
      "text/plain": [
       "<Figure size 432x288 with 1 Axes>"
      ]
     },
     "metadata": {},
     "output_type": "display_data"
    }
   ],
   "source": [
    "df_renters.hist(column = 'financialliteracyscore')"
   ]
  },
  {
   "cell_type": "markdown",
   "metadata": {},
   "source": [
    "Oh wow. That looks quite drastic.  The financial literacy score of those who rent have an average that is centered more to the left than the average of the scores of homeowners."
   ]
  },
  {
   "cell_type": "code",
   "execution_count": 64,
   "metadata": {},
   "outputs": [
    {
     "data": {
      "text/plain": [
       "count    17193.000000\n",
       "mean        49.411151\n",
       "std         17.396916\n",
       "min          0.000000\n",
       "25%         37.037037\n",
       "50%         51.851852\n",
       "75%         62.962963\n",
       "max         92.592593\n",
       "Name: financialliteracyscore, dtype: float64"
      ]
     },
     "execution_count": 64,
     "metadata": {},
     "output_type": "execute_result"
    }
   ],
   "source": [
    "df_owners['financialliteracyscore'].describe()"
   ]
  },
  {
   "cell_type": "code",
   "execution_count": 65,
   "metadata": {},
   "outputs": [
    {
     "data": {
      "text/plain": [
       "count    10116.000000\n",
       "mean        34.586207\n",
       "std         15.365730\n",
       "min          0.000000\n",
       "25%         22.222222\n",
       "50%         33.333333\n",
       "75%         44.444444\n",
       "max         85.185185\n",
       "Name: financialliteracyscore, dtype: float64"
      ]
     },
     "execution_count": 65,
     "metadata": {},
     "output_type": "execute_result"
    }
   ],
   "source": [
    "df_renters['financialliteracyscore'].describe()"
   ]
  },
  {
   "cell_type": "code",
   "execution_count": null,
   "metadata": {},
   "outputs": [],
   "source": []
  }
 ],
 "metadata": {
  "kernelspec": {
   "display_name": "Python 3",
   "language": "python",
   "name": "python3"
  },
  "language_info": {
   "codemirror_mode": {
    "name": "ipython",
    "version": 3
   },
   "file_extension": ".py",
   "mimetype": "text/x-python",
   "name": "python",
   "nbconvert_exporter": "python",
   "pygments_lexer": "ipython3",
   "version": "3.6.5"
  }
 },
 "nbformat": 4,
 "nbformat_minor": 2
}
