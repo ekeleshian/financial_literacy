{
 "cells": [
  {
   "cell_type": "markdown",
   "metadata": {},
   "source": [
    "# Are Americans Financially Literate?\n",
    "\n",
    "### My Motivation\n",
    "\n",
    "Ever since grad school and my time in education, this question has been pondering in my head almost to an annoying level, as it's a serious problem that we're facing in this country, and that is....\n",
    "\n",
    "_Most Americans do not know what they're doing with their money._\n",
    "\n",
    "Here is the formal definition of [financial literacy](https://www.investopedia.com/terms/f/financial-literacy.asp): \n",
    "\n",
    ">Financial literacy is the education and understanding of various financial areas including topics related to managing personal finance, money and investing. This topic focuses on the ability to manage personal finance matters in an efficient manner, and it includes the knowledge of making appropriate decisions about personal finance such as investing, insurance, real estate, paying for college, budgeting, retirement and tax planning.\n",
    "\n",
    "\n",
    "I explored the world of financial literacy in my Master's program at University of Pennsylvania, where I participated and investigated the effects of Wharton's [Bridges to Wealth](http://www.bridgestowealth.org/) program.  Big realizations were made here:\n",
    "\n",
    "1) When young people are **properly educated** about compound interest, they are very likely to start investing.\n",
    "\n",
    "2) **Collaboration** and group-led **discussions** are an integral part of bringing new people into the practice of investing.\n",
    "\n",
    "3) **Barriers to access** is a very real problem in impoverished urban areas, where much needed credit unions are scarce or simply quiet.\n",
    "\n",
    "4) The **social capital** that you have from your environment strongly dictates how you're going to manage your money.\n",
    "\n",
    "5) **Home-owners** are more likely to spend their money wisely than **renters**. \n",
    "\n",
    "These realizations, which were then fleshed out in my thesis, were backed by **personal observations**, **survey data**, and **interviews**. But as I reflect about the thesis I wrote three years ago, I wish that my analysis contained more stats to quantify my realizations: my foundings were determined by a taking a _qualitative_ approach on the data, building up a narrative about attributes that _could potentially_ affect financial literacy.\n",
    "\n",
    "Therefore, my motivation with this project is to justify these realizations with statistics. In other words, I want to approach this project in the eyes of a **data scientist**.\n",
    "\n",
    "So, let's go!\n",
    "___________________________________________________"
   ]
  },
  {
   "cell_type": "markdown",
   "metadata": {},
   "source": [
    "### The Data\n",
    "\n",
    "The [National Financial Capability Study](http://www.usfinancialcapability.org/downloads.php) assesses the overall financial capability of the national population. Data collection was done by each state across a large sample. I obtained their data over a Google Scholar search. \n",
    "\n",
    "I wrote and ran two python files in order to process the data in a format I wanted, in addition to aggregating over certain columns in order to generate a new metric. One of the python files just stored dictionaries of key-value pairs that allowed to convert labels, and the other python file behaved like a pipeline, cleaning up the data and adding more attributes. After I run the code, a new dataframe is generated and saved in a csv, called ```correct_data.csv```, which can now allow me to play with it in this jupyter notebook.\n",
    "\n",
    "Here's a glimpse of the processed data:"
   ]
  },
  {
   "cell_type": "code",
   "execution_count": 1,
   "metadata": {},
   "outputs": [],
   "source": [
    "import pandas as pd"
   ]
  },
  {
   "cell_type": "code",
   "execution_count": 2,
   "metadata": {},
   "outputs": [
    {
     "data": {
      "text/html": [
       "<div>\n",
       "<style scoped>\n",
       "    .dataframe tbody tr th:only-of-type {\n",
       "        vertical-align: middle;\n",
       "    }\n",
       "\n",
       "    .dataframe tbody tr th {\n",
       "        vertical-align: top;\n",
       "    }\n",
       "\n",
       "    .dataframe thead th {\n",
       "        text-align: right;\n",
       "    }\n",
       "</style>\n",
       "<table border=\"1\" class=\"dataframe\">\n",
       "  <thead>\n",
       "    <tr style=\"text-align: right;\">\n",
       "      <th></th>\n",
       "      <th>NFCSID</th>\n",
       "      <th>State</th>\n",
       "      <th>CensusDivision</th>\n",
       "      <th>CensusRegion</th>\n",
       "      <th>Gender</th>\n",
       "      <th>AgeGroup</th>\n",
       "      <th>Gender/AgeNet</th>\n",
       "      <th>Ethnicity</th>\n",
       "      <th>HighestLevelEducation</th>\n",
       "      <th>MaritalStatus</th>\n",
       "      <th>...</th>\n",
       "      <th>FinancialTestQ1</th>\n",
       "      <th>FinancialTestQ2</th>\n",
       "      <th>FinancialTestQ3</th>\n",
       "      <th>FinancialTestQ4</th>\n",
       "      <th>FinancialTestQ5</th>\n",
       "      <th>FinancialTestQ6</th>\n",
       "      <th>NationalWeightByAgeGenderEthnicityEducationCensusDivision</th>\n",
       "      <th>DivisionalWeightByAgeGenderEthnicityEducationState</th>\n",
       "      <th>StateWeightByAgeGenderEthnicityEducation</th>\n",
       "      <th>financialliteracyscore</th>\n",
       "    </tr>\n",
       "  </thead>\n",
       "  <tbody>\n",
       "    <tr>\n",
       "      <th>0</th>\n",
       "      <td>2015010001</td>\n",
       "      <td>Arizona</td>\n",
       "      <td>Mountain</td>\n",
       "      <td>West</td>\n",
       "      <td>Male</td>\n",
       "      <td>65+</td>\n",
       "      <td>6</td>\n",
       "      <td>White</td>\n",
       "      <td>College, no degree</td>\n",
       "      <td>Divorced</td>\n",
       "      <td>...</td>\n",
       "      <td>3</td>\n",
       "      <td>3</td>\n",
       "      <td>0</td>\n",
       "      <td>0</td>\n",
       "      <td>1</td>\n",
       "      <td>0</td>\n",
       "      <td>0.536725</td>\n",
       "      <td>2.758128</td>\n",
       "      <td>1.287577</td>\n",
       "      <td>18.518519</td>\n",
       "    </tr>\n",
       "    <tr>\n",
       "      <th>1</th>\n",
       "      <td>2015010002</td>\n",
       "      <td>Ohio</td>\n",
       "      <td>East North Central</td>\n",
       "      <td>Midwest</td>\n",
       "      <td>Female</td>\n",
       "      <td>55-64</td>\n",
       "      <td>11</td>\n",
       "      <td>White</td>\n",
       "      <td>College, no degree</td>\n",
       "      <td>Widowed/Widower</td>\n",
       "      <td>...</td>\n",
       "      <td>1</td>\n",
       "      <td>3</td>\n",
       "      <td>0</td>\n",
       "      <td>2</td>\n",
       "      <td>1</td>\n",
       "      <td>0</td>\n",
       "      <td>1.663579</td>\n",
       "      <td>1.587114</td>\n",
       "      <td>1.022437</td>\n",
       "      <td>22.222222</td>\n",
       "    </tr>\n",
       "    <tr>\n",
       "      <th>2</th>\n",
       "      <td>2015010003</td>\n",
       "      <td>New York</td>\n",
       "      <td>Middle Atlantic</td>\n",
       "      <td>Northeast</td>\n",
       "      <td>Female</td>\n",
       "      <td>25-34</td>\n",
       "      <td>8</td>\n",
       "      <td>White</td>\n",
       "      <td>Bachelor's</td>\n",
       "      <td>Married</td>\n",
       "      <td>...</td>\n",
       "      <td>1</td>\n",
       "      <td>0</td>\n",
       "      <td>0</td>\n",
       "      <td>0</td>\n",
       "      <td>1</td>\n",
       "      <td>0</td>\n",
       "      <td>0.708960</td>\n",
       "      <td>0.823015</td>\n",
       "      <td>0.823240</td>\n",
       "      <td>14.814815</td>\n",
       "    </tr>\n",
       "    <tr>\n",
       "      <th>3</th>\n",
       "      <td>2015010004</td>\n",
       "      <td>Florida</td>\n",
       "      <td>South Atlantic</td>\n",
       "      <td>South</td>\n",
       "      <td>Female</td>\n",
       "      <td>35-44</td>\n",
       "      <td>9</td>\n",
       "      <td>Non-White</td>\n",
       "      <td>GED or alternative</td>\n",
       "      <td>Divorced</td>\n",
       "      <td>...</td>\n",
       "      <td>3</td>\n",
       "      <td>0</td>\n",
       "      <td>0</td>\n",
       "      <td>0</td>\n",
       "      <td>1</td>\n",
       "      <td>0</td>\n",
       "      <td>2.031946</td>\n",
       "      <td>2.983356</td>\n",
       "      <td>1.020086</td>\n",
       "      <td>3.703704</td>\n",
       "    </tr>\n",
       "    <tr>\n",
       "      <th>4</th>\n",
       "      <td>2015010005</td>\n",
       "      <td>New Jersey</td>\n",
       "      <td>Middle Atlantic</td>\n",
       "      <td>Northeast</td>\n",
       "      <td>Male</td>\n",
       "      <td>55-64</td>\n",
       "      <td>5</td>\n",
       "      <td>White</td>\n",
       "      <td>HS diploma</td>\n",
       "      <td>Single</td>\n",
       "      <td>...</td>\n",
       "      <td>1</td>\n",
       "      <td>0</td>\n",
       "      <td>0</td>\n",
       "      <td>0</td>\n",
       "      <td>1</td>\n",
       "      <td>2</td>\n",
       "      <td>2.521054</td>\n",
       "      <td>0.980330</td>\n",
       "      <td>1.145100</td>\n",
       "      <td>22.222222</td>\n",
       "    </tr>\n",
       "    <tr>\n",
       "      <th>5</th>\n",
       "      <td>2015010006</td>\n",
       "      <td>Missouri</td>\n",
       "      <td>West North Central</td>\n",
       "      <td>Midwest</td>\n",
       "      <td>Male</td>\n",
       "      <td>65+</td>\n",
       "      <td>6</td>\n",
       "      <td>White</td>\n",
       "      <td>Post Graduate</td>\n",
       "      <td>Married</td>\n",
       "      <td>...</td>\n",
       "      <td>1</td>\n",
       "      <td>3</td>\n",
       "      <td>2</td>\n",
       "      <td>2</td>\n",
       "      <td>1</td>\n",
       "      <td>2</td>\n",
       "      <td>0.395068</td>\n",
       "      <td>1.682096</td>\n",
       "      <td>0.788287</td>\n",
       "      <td>51.851852</td>\n",
       "    </tr>\n",
       "    <tr>\n",
       "      <th>6</th>\n",
       "      <td>2015010007</td>\n",
       "      <td>Florida</td>\n",
       "      <td>South Atlantic</td>\n",
       "      <td>South</td>\n",
       "      <td>Male</td>\n",
       "      <td>35-44</td>\n",
       "      <td>3</td>\n",
       "      <td>Non-White</td>\n",
       "      <td>Bachelor's</td>\n",
       "      <td>Married</td>\n",
       "      <td>...</td>\n",
       "      <td>0</td>\n",
       "      <td>0</td>\n",
       "      <td>0</td>\n",
       "      <td>0</td>\n",
       "      <td>0</td>\n",
       "      <td>2</td>\n",
       "      <td>1.570852</td>\n",
       "      <td>2.298935</td>\n",
       "      <td>0.776923</td>\n",
       "      <td>7.407407</td>\n",
       "    </tr>\n",
       "    <tr>\n",
       "      <th>7</th>\n",
       "      <td>2015010008</td>\n",
       "      <td>Arizona</td>\n",
       "      <td>Mountain</td>\n",
       "      <td>West</td>\n",
       "      <td>Female</td>\n",
       "      <td>35-44</td>\n",
       "      <td>9</td>\n",
       "      <td>Non-White</td>\n",
       "      <td>Did not complete HS</td>\n",
       "      <td>Single</td>\n",
       "      <td>...</td>\n",
       "      <td>0</td>\n",
       "      <td>1</td>\n",
       "      <td>0</td>\n",
       "      <td>0</td>\n",
       "      <td>0</td>\n",
       "      <td>0</td>\n",
       "      <td>0.308107</td>\n",
       "      <td>2.172517</td>\n",
       "      <td>1.072801</td>\n",
       "      <td>7.407407</td>\n",
       "    </tr>\n",
       "    <tr>\n",
       "      <th>8</th>\n",
       "      <td>2015010009</td>\n",
       "      <td>South Carolina</td>\n",
       "      <td>South Atlantic</td>\n",
       "      <td>South</td>\n",
       "      <td>Female</td>\n",
       "      <td>65+</td>\n",
       "      <td>12</td>\n",
       "      <td>Non-White</td>\n",
       "      <td>Post Graduate</td>\n",
       "      <td>Divorced</td>\n",
       "      <td>...</td>\n",
       "      <td>2</td>\n",
       "      <td>3</td>\n",
       "      <td>4</td>\n",
       "      <td>2</td>\n",
       "      <td>1</td>\n",
       "      <td>0</td>\n",
       "      <td>0.960049</td>\n",
       "      <td>0.528338</td>\n",
       "      <td>0.772425</td>\n",
       "      <td>11.111111</td>\n",
       "    </tr>\n",
       "    <tr>\n",
       "      <th>9</th>\n",
       "      <td>2015010010</td>\n",
       "      <td>New York</td>\n",
       "      <td>Middle Atlantic</td>\n",
       "      <td>Northeast</td>\n",
       "      <td>Male</td>\n",
       "      <td>18-24</td>\n",
       "      <td>1</td>\n",
       "      <td>Non-White</td>\n",
       "      <td>Bachelor's</td>\n",
       "      <td>Single</td>\n",
       "      <td>...</td>\n",
       "      <td>0</td>\n",
       "      <td>0</td>\n",
       "      <td>3</td>\n",
       "      <td>0</td>\n",
       "      <td>0</td>\n",
       "      <td>2</td>\n",
       "      <td>1.118281</td>\n",
       "      <td>0.756921</td>\n",
       "      <td>0.742193</td>\n",
       "      <td>3.703704</td>\n",
       "    </tr>\n",
       "  </tbody>\n",
       "</table>\n",
       "<p>10 rows × 127 columns</p>\n",
       "</div>"
      ],
      "text/plain": [
       "       NFCSID           State      CensusDivision CensusRegion  Gender  \\\n",
       "0  2015010001         Arizona            Mountain         West    Male   \n",
       "1  2015010002            Ohio  East North Central      Midwest  Female   \n",
       "2  2015010003        New York     Middle Atlantic    Northeast  Female   \n",
       "3  2015010004         Florida      South Atlantic        South  Female   \n",
       "4  2015010005      New Jersey     Middle Atlantic    Northeast    Male   \n",
       "5  2015010006        Missouri  West North Central      Midwest    Male   \n",
       "6  2015010007         Florida      South Atlantic        South    Male   \n",
       "7  2015010008         Arizona            Mountain         West  Female   \n",
       "8  2015010009  South Carolina      South Atlantic        South  Female   \n",
       "9  2015010010        New York     Middle Atlantic    Northeast    Male   \n",
       "\n",
       "  AgeGroup  Gender/AgeNet  Ethnicity HighestLevelEducation    MaritalStatus  \\\n",
       "0      65+              6      White    College, no degree         Divorced   \n",
       "1    55-64             11      White    College, no degree  Widowed/Widower   \n",
       "2    25-34              8      White            Bachelor's          Married   \n",
       "3    35-44              9  Non-White    GED or alternative         Divorced   \n",
       "4    55-64              5      White            HS diploma           Single   \n",
       "5      65+              6      White         Post Graduate          Married   \n",
       "6    35-44              3  Non-White            Bachelor's          Married   \n",
       "7    35-44              9  Non-White   Did not complete HS           Single   \n",
       "8      65+             12  Non-White         Post Graduate         Divorced   \n",
       "9    18-24              1  Non-White            Bachelor's           Single   \n",
       "\n",
       "           ...           FinancialTestQ1  FinancialTestQ2  FinancialTestQ3  \\\n",
       "0          ...                         3                3                0   \n",
       "1          ...                         1                3                0   \n",
       "2          ...                         1                0                0   \n",
       "3          ...                         3                0                0   \n",
       "4          ...                         1                0                0   \n",
       "5          ...                         1                3                2   \n",
       "6          ...                         0                0                0   \n",
       "7          ...                         0                1                0   \n",
       "8          ...                         2                3                4   \n",
       "9          ...                         0                0                3   \n",
       "\n",
       "  FinancialTestQ4  FinancialTestQ5 FinancialTestQ6  \\\n",
       "0               0                1               0   \n",
       "1               2                1               0   \n",
       "2               0                1               0   \n",
       "3               0                1               0   \n",
       "4               0                1               2   \n",
       "5               2                1               2   \n",
       "6               0                0               2   \n",
       "7               0                0               0   \n",
       "8               2                1               0   \n",
       "9               0                0               2   \n",
       "\n",
       "  NationalWeightByAgeGenderEthnicityEducationCensusDivision  \\\n",
       "0                                           0.536725          \n",
       "1                                           1.663579          \n",
       "2                                           0.708960          \n",
       "3                                           2.031946          \n",
       "4                                           2.521054          \n",
       "5                                           0.395068          \n",
       "6                                           1.570852          \n",
       "7                                           0.308107          \n",
       "8                                           0.960049          \n",
       "9                                           1.118281          \n",
       "\n",
       "  DivisionalWeightByAgeGenderEthnicityEducationState  \\\n",
       "0                                           2.758128   \n",
       "1                                           1.587114   \n",
       "2                                           0.823015   \n",
       "3                                           2.983356   \n",
       "4                                           0.980330   \n",
       "5                                           1.682096   \n",
       "6                                           2.298935   \n",
       "7                                           2.172517   \n",
       "8                                           0.528338   \n",
       "9                                           0.756921   \n",
       "\n",
       "   StateWeightByAgeGenderEthnicityEducation financialliteracyscore  \n",
       "0                                  1.287577              18.518519  \n",
       "1                                  1.022437              22.222222  \n",
       "2                                  0.823240              14.814815  \n",
       "3                                  1.020086               3.703704  \n",
       "4                                  1.145100              22.222222  \n",
       "5                                  0.788287              51.851852  \n",
       "6                                  0.776923               7.407407  \n",
       "7                                  1.072801               7.407407  \n",
       "8                                  0.772425              11.111111  \n",
       "9                                  0.742193               3.703704  \n",
       "\n",
       "[10 rows x 127 columns]"
      ]
     },
     "execution_count": 2,
     "metadata": {},
     "output_type": "execute_result"
    }
   ],
   "source": [
    "df = pd.read_csv(\"./correct_data.csv\")\n",
    "\n",
    "df.head(10)\n"
   ]
  },
  {
   "cell_type": "markdown",
   "metadata": {},
   "source": [
    "So, let's take a look at some simple stats first"
   ]
  },
  {
   "cell_type": "code",
   "execution_count": 46,
   "metadata": {},
   "outputs": [
    {
     "data": {
      "text/plain": [
       "NFCSID                   27564\n",
       "State                    27564\n",
       "CensusDivision           27564\n",
       "CensusRegion             27564\n",
       "Gender                   27564\n",
       "AgeGroup                 27564\n",
       "Gender/AgeNet            27564\n",
       "Ethnicity                27564\n",
       "HighestLevelEducation    27564\n",
       "MaritalStatus            27564\n",
       "dtype: int64"
      ]
     },
     "execution_count": 46,
     "metadata": {},
     "output_type": "execute_result"
    }
   ],
   "source": [
    "df.count().head(10)"
   ]
  },
  {
   "cell_type": "code",
   "execution_count": 48,
   "metadata": {},
   "outputs": [
    {
     "data": {
      "text/plain": [
       "127"
      ]
     },
     "execution_count": 48,
     "metadata": {},
     "output_type": "execute_result"
    }
   ],
   "source": [
    "len(df.columns)"
   ]
  },
  {
   "cell_type": "markdown",
   "metadata": {},
   "source": [
    "The data is a lot. Notice that I only printed out just the first 10 columns, indicating that many other columns aren't printed on the screen.\n",
    "\n",
    "Let's pick out some interesting columns to start.\n",
    "\n",
    "I want to start with the ```financialliteracyscore``` column, as this is the column that I created. It measures a person's level of comprehension on financial literacy. I created this metric based on the definition mentioned earlier: the **knowledge of compound interest**, the practice of **planning for the future**, and basic **money management**, including budgeting and owning a savings account*. \n",
    "\n",
    "*_By the way, the nitty-gritty of how I went about this is in my prior blog post, [Playing with Financial Literacy Data](https://ekeleshian.github.io/playing-with-data/)_."
   ]
  },
  {
   "cell_type": "code",
   "execution_count": 4,
   "metadata": {},
   "outputs": [
    {
     "data": {
      "text/plain": [
       "count    27564.000000\n",
       "mean        34.669752\n",
       "std         17.734525\n",
       "min         -7.407407\n",
       "25%         22.222222\n",
       "50%         33.333333\n",
       "75%         48.148148\n",
       "max         81.481481\n",
       "Name: financialliteracyscore, dtype: float64"
      ]
     },
     "execution_count": 4,
     "metadata": {},
     "output_type": "execute_result"
    }
   ],
   "source": [
    "df['financialliteracyscore'].describe()"
   ]
  },
  {
   "cell_type": "markdown",
   "metadata": {},
   "source": [
    "\n",
    "_Side note: the lowest score here is negative because some of the columns I aggregated over were metrics that would pull the score down. For instance, if a surveyee answered that they have too much debt, their score went down two points; if they use their credit cards for a cash advance, the score went down one point. The weight of this negative score was arbitruary somewhat, just based on my own perception about how bad that quality is relative to the other negative attributes. The entire rubric I created is in my prior blog [Playing with Financial Literacy Data](https://ekeleshian.github.io/playing-with-data/)_; *the rubric is called* ```dictionary_of_parameters``` *for reference.*"
   ]
  },
  {
   "cell_type": "code",
   "execution_count": 5,
   "metadata": {},
   "outputs": [
    {
     "name": "stdout",
     "output_type": "stream",
     "text": [
      "Financial literacy score in the 75th percentile: 48.15%\n",
      "Financial literacy score in the 98th percentile: 70.37%\n"
     ]
    }
   ],
   "source": [
    "import decimal\n",
    "\n",
    "def rounding(num):\n",
    "    num = decimal.Decimal(num)\n",
    "    return round(num, 2)\n",
    "    \n",
    "percentile_75 = df['financialliteracyscore'].quantile(q=.75)\n",
    "percentile_98 = df['financialliteracyscore'].quantile(q=.98)\n",
    "\n",
    "print(f'Financial literacy score in the 75th percentile: {rounding(percentile_75)}%')\n",
    "print(f'Financial literacy score in the 98th percentile: {rounding(percentile_98)}%')"
   ]
  },
  {
   "cell_type": "markdown",
   "metadata": {},
   "source": [
    "Already, the stats looks alarming.  75% of surveyees score around 50% on this financial literacy assessment, meaning three-fourths of Americans failed the test.\n",
    "\n",
    "Furthermore, **only 2%** of Americans know a decent amount of financial literacy, as they passed the test.\n",
    "\n",
    "I feel like I have seen this 2% with regards to people and money before....\n",
    "\n",
    "![Homer thinking](homer_thinking.jpg)\n",
    "\n",
    "What I really want to do now is to partition the data into two groups: those who failed the test (98% of the paricipants) vs those who didn't (2% of the participants).  Then, with feature engineering, I can hopefully figure out the particular factors that determine financial literacy proficiency.\n",
    "\n",
    "But before I do that, I need to make sure that this partition is reasonable, as it was determined by a metric that I created.  So, I will test my financial literacy metric by comparing the two groups with parameters that I did not use in my financial literacy metric calculation.\n",
    "\n",
    "In turn, I will compare the two groups by the following parameters:\n",
    "\n",
    "1) Household Income\n",
    "\n",
    "2) Highest level of education\n",
    "\n",
    "3) Whether they received financial education at work, school, or at home.\n",
    "\n",
    "4) Own a home\n",
    "\n",
    "5) Math abilities\n",
    "\n",
    "These parameters typically correlate with financial literacy competence, but they're not included in my financial literacy metric. If my financial literacy metric is a reliable one, then these parameters should correlate nicely with the test results.\n",
    "\n",
    "___________________________________________________\n",
    "\n"
   ]
  },
  {
   "cell_type": "markdown",
   "metadata": {},
   "source": [
    "### Partitioning the data"
   ]
  },
  {
   "cell_type": "code",
   "execution_count": 20,
   "metadata": {},
   "outputs": [],
   "source": [
    "bottom_98 = df[df['financialliteracyscore'] < 70]"
   ]
  },
  {
   "cell_type": "code",
   "execution_count": 22,
   "metadata": {},
   "outputs": [],
   "source": [
    "top_2 = df[df['financialliteracyscore'] >= 70]"
   ]
  },
  {
   "cell_type": "markdown",
   "metadata": {},
   "source": [
    "____________________________________________________\n",
    "## Comparing Household Income"
   ]
  },
  {
   "cell_type": "markdown",
   "metadata": {},
   "source": [
    "As mentioned before, I will first verify that my financial literacy metric is a reliable one, by comparing it with certain attributes that weren't used to calculate the metric. First, I will compare their household income.  \n",
    "\n",
    "_As a side note: since we're dealing with uneven sample sizes, metrics will be determined in relative terms, i.e. percentages._"
   ]
  },
  {
   "cell_type": "code",
   "execution_count": 31,
   "metadata": {},
   "outputs": [],
   "source": [
    "def percent_calculator(df, **kwargs):\n",
    "    for key, value in kwargs.items():\n",
    "        if key == 'column':\n",
    "            label = value\n",
    "        if key == 'response':\n",
    "            response = value\n",
    "    numerator = df[df[label] == response][label].count()\n",
    "    no_nulls = df[df[label] != 99]\n",
    "    denominator = no_nulls[label].count()\n",
    "    return rounding(numerator*1.0/denominator * 100)"
   ]
  },
  {
   "cell_type": "code",
   "execution_count": 32,
   "metadata": {},
   "outputs": [
    {
     "data": {
      "text/plain": [
       "<matplotlib.axes._subplots.AxesSubplot at 0x7f47649cbba8>"
      ]
     },
     "execution_count": 32,
     "metadata": {},
     "output_type": "execute_result"
    },
    {
     "data": {
      "image/png": "[encoded data removed]",
      "text/plain": [
       "<Figure size 432x288 with 1 Axes>"
      ]
     },
     "metadata": {},
     "output_type": "display_data"
    }
   ],
   "source": [
    "income_98 = bottom_98['HouseholdIncome']\n",
    "income_98.value_counts().plot('bar')"
   ]
  },
  {
   "cell_type": "code",
   "execution_count": 33,
   "metadata": {},
   "outputs": [
    {
     "data": {
      "text/plain": [
       "<matplotlib.axes._subplots.AxesSubplot at 0x7f476493e470>"
      ]
     },
     "execution_count": 33,
     "metadata": {},
     "output_type": "execute_result"
    },
    {
     "data": {
      "image/png": "[encoded data removed]",
      "text/plain": [
       "<Figure size 432x288 with 1 Axes>"
      ]
     },
     "metadata": {},
     "output_type": "display_data"
    }
   ],
   "source": [
    "income_2 = top_2['HouseholdIncome']\n",
    "income_2.value_counts().plot('bar')"
   ]
  },
  {
   "cell_type": "code",
   "execution_count": 34,
   "metadata": {},
   "outputs": [
    {
     "data": {
      "text/plain": [
       "[50k, 75k)      0.205368\n",
       "[35k, 50k)      0.149237\n",
       "[70k, 100k)     0.134462\n",
       "[100k, 150k)    0.118090\n",
       "[0, 15K)        0.117348\n",
       "[15k, 25k)      0.110777\n",
       "[25k, 35k)      0.110740\n",
       "150k+           0.053978\n",
       "Name: HouseholdIncome, dtype: float64"
      ]
     },
     "execution_count": 34,
     "metadata": {},
     "output_type": "execute_result"
    }
   ],
   "source": [
    "income_98.value_counts(normalize = True)\n"
   ]
  },
  {
   "cell_type": "code",
   "execution_count": 35,
   "metadata": {},
   "outputs": [
    {
     "data": {
      "text/plain": [
       "[100k, 150k)    0.298246\n",
       "150k+           0.253589\n",
       "[70k, 100k)     0.196172\n",
       "[50k, 75k)      0.188198\n",
       "[35k, 50k)      0.047847\n",
       "[25k, 35k)      0.009569\n",
       "[15k, 25k)      0.004785\n",
       "[0, 15K)        0.001595\n",
       "Name: HouseholdIncome, dtype: float64"
      ]
     },
     "execution_count": 35,
     "metadata": {},
     "output_type": "execute_result"
    }
   ],
   "source": [
    "income_2.value_counts(normalize = True)"
   ]
  },
  {
   "cell_type": "code",
   "execution_count": 36,
   "metadata": {},
   "outputs": [
    {
     "name": "stdout",
     "output_type": "stream",
     "text": [
      "Percent of low-income surveyees from the bottom 98%: 34.25%\n",
      "Percent of low-income surveyees from the top 2%: 2.02%\n"
     ]
    }
   ],
   "source": [
    "print(f'Percent of low-income surveyees from the bottom 98%: {rounding((0.118694 + 0.112046+ 0.111783)*100)}%')\n",
    "print(f'Percent of low-income surveyees from the top 2%: {rounding((0.002125 + 0.004251 + 0.013815)*100)}%')"
   ]
  },
  {
   "cell_type": "code",
   "execution_count": 37,
   "metadata": {},
   "outputs": [
    {
     "name": "stdout",
     "output_type": "stream",
     "text": [
      "Percent of surveyees with income more than 100K from the bottom 98%: 16.79%\n",
      "Percent of surveyees with income more than 100K from the top 2%: 54.30%\n"
     ]
    }
   ],
   "source": [
    "print(f'Percent of surveyees with income more than 100K from the bottom 98%: {rounding((0.115915 +0.051985)*100)}%')\n",
    "print(f'Percent of surveyees with income more than 100K from the top 2%: {rounding((0.299681 + 0.243358)*100)}%')"
   ]
  },
  {
   "cell_type": "markdown",
   "metadata": {},
   "source": [
    "Those in the top 2% significantly earn more money than the bottom 98%.  Since income typically correlates with financial literacy, we're off to a good start.\n",
    "___________________________________________________________________\n",
    "\n",
    "## Comparing Level of Education"
   ]
  },
  {
   "cell_type": "code",
   "execution_count": 38,
   "metadata": {},
   "outputs": [
    {
     "data": {
      "text/plain": [
       "College, no degree     0.283699\n",
       "Bachelor's             0.226566\n",
       "HS diploma             0.163938\n",
       "Post Graduate          0.131084\n",
       "Associate's            0.109960\n",
       "GED or alternative     0.062813\n",
       "Did not complete HS    0.021940\n",
       "Name: HighestLevelEducation, dtype: float64"
      ]
     },
     "execution_count": 38,
     "metadata": {},
     "output_type": "execute_result"
    }
   ],
   "source": [
    "education_98 = bottom_98['HighestLevelEducation']\n",
    "education_2 = top_2['HighestLevelEducation']\n",
    "education_98.value_counts(normalize = True)\n"
   ]
  },
  {
   "cell_type": "code",
   "execution_count": 39,
   "metadata": {},
   "outputs": [
    {
     "data": {
      "text/plain": [
       "Post Graduate         0.344498\n",
       "Bachelor's            0.342903\n",
       "College, no degree    0.154705\n",
       "Associate's           0.098884\n",
       "HS diploma            0.049442\n",
       "GED or alternative    0.009569\n",
       "Name: HighestLevelEducation, dtype: float64"
      ]
     },
     "execution_count": 39,
     "metadata": {},
     "output_type": "execute_result"
    }
   ],
   "source": [
    "education_2.value_counts(normalize=True)"
   ]
  },
  {
   "cell_type": "code",
   "execution_count": 40,
   "metadata": {},
   "outputs": [
    {
     "name": "stdout",
     "output_type": "stream",
     "text": [
      "Percent of surveyees from bottom 98% who did not attend college: 53.55%\n"
     ]
    }
   ],
   "source": [
    "print(f'Percent of surveyees from bottom 98% who did not attend college: {rounding((0.284866+ 0.165045+ 0.022199+0.063366)*100)}%')"
   ]
  },
  {
   "cell_type": "code",
   "execution_count": 41,
   "metadata": {},
   "outputs": [
    {
     "name": "stdout",
     "output_type": "stream",
     "text": [
      "Percent of surveyees from top 2% who did not attend college: 23.27%\n"
     ]
    }
   ],
   "source": [
    "print(f'Percent of surveyees from top 2% who did not attend college: {rounding((0.164718+ 0.056323+0.011690 )*100)}%')"
   ]
  },
  {
   "cell_type": "markdown",
   "metadata": {},
   "source": [
    "According to the percentages above, those in the top 2% are relatively more educated. This correlates nicely with the financial literacy metric. "
   ]
  },
  {
   "cell_type": "markdown",
   "metadata": {},
   "source": [
    "__________________________________________________________________\n",
    "\n",
    "## Comparing Financial Education"
   ]
  },
  {
   "cell_type": "code",
   "execution_count": 21,
   "metadata": {},
   "outputs": [],
   "source": [
    "target = [\"FinancialEducationOfferedAtSchoolOrWork?\", \n",
    "          \"ReceiveFinancialEducationInHighSchool?\",\n",
    "          \"ReceiveFinancialEducationInCollege?\", \n",
    "          \"ReceiveFinancialEducationFromWork?\",\n",
    "          \"ReceiveFinancialEducationFromMilitary?\",\n",
    "          \"ParentsTeachYouAboutFinance?\",\n",
    "         ]"
   ]
  },
  {
   "cell_type": "code",
   "execution_count": 42,
   "metadata": {
    "scrolled": true
   },
   "outputs": [
    {
     "data": {
      "text/plain": [
       "Text(0,12000,'0 = IDK\\n1 = Yes, but did not participate \\n2 = Yes, and participate \\n3 = No')"
      ]
     },
     "execution_count": 42,
     "metadata": {},
     "output_type": "execute_result"
    },
    {
     "data": {
      "image/png": "[encoded data removed]",
      "text/plain": [
       "<Figure size 432x288 with 1 Axes>"
      ]
     },
     "metadata": {},
     "output_type": "display_data"
    }
   ],
   "source": [
    "fin_ed_98 = bottom_98[target]\n",
    "\n",
    "fin_ed_98 = fin_ed_98[fin_ed_98['FinancialEducationOfferedAtSchoolOrWork?']!= 99]\n",
    "# fin_ed_98.hist(column = \"FinancialEducationOfferedAtSchoolOrWork?\")\n",
    "import matplotlib.pyplot as plt\n",
    "\n",
    "plt.hist(fin_ed_98['FinancialEducationOfferedAtSchoolOrWork?'])\n",
    "plt.xlabel('Responses')\n",
    "plt.ylabel('Frequency')\n",
    "plt.text(0, 12000, '0 = IDK\\n1 = Yes, but did not participate \\n2 = Yes, and participate \\n3 = No')"
   ]
  },
  {
   "cell_type": "code",
   "execution_count": 70,
   "metadata": {},
   "outputs": [
    {
     "data": {
      "text/plain": [
       "Text(0,350,'0 = IDK\\n1 = Yes, but did not participate \\n2 = Yes, and participate \\n3 = No')"
      ]
     },
     "execution_count": 70,
     "metadata": {},
     "output_type": "execute_result"
    },
    {
     "data": {
      "image/png": "[encoded data removed]",
      "text/plain": [
       "<Figure size 432x288 with 1 Axes>"
      ]
     },
     "metadata": {},
     "output_type": "display_data"
    }
   ],
   "source": [
    "fin_ed_2 = top_2[target]\n",
    "fin_ed_2 = fin_ed_2[fin_ed_2['FinancialEducationOfferedAtSchoolOrWork?']!=99]\n",
    "\n",
    "plt.hist(fin_ed_2['FinancialEducationOfferedAtSchoolOrWork?'])\n",
    "plt.xlabel('Responses')\n",
    "plt.ylabel('Frequency')\n",
    "plt.text(0, 350, '0 = IDK\\n1 = Yes, but did not participate \\n2 = Yes, and participate \\n3 = No')"
   ]
  },
  {
   "cell_type": "code",
   "execution_count": 48,
   "metadata": {},
   "outputs": [
    {
     "data": {
      "text/plain": [
       "3    0.467021\n",
       "2    0.402128\n",
       "1    0.081915\n",
       "0    0.048936\n",
       "Name: FinancialEducationOfferedAtSchoolOrWork?, dtype: float64"
      ]
     },
     "execution_count": 48,
     "metadata": {},
     "output_type": "execute_result"
    }
   ],
   "source": [
    "fin_ed_2['FinancialEducationOfferedAtSchoolOrWork?'].value_counts(normalize=True)"
   ]
  },
  {
   "cell_type": "code",
   "execution_count": 49,
   "metadata": {},
   "outputs": [
    {
     "data": {
      "text/plain": [
       "3    0.588611\n",
       "2    0.212364\n",
       "1    0.099683\n",
       "0    0.099343\n",
       "Name: FinancialEducationOfferedAtSchoolOrWork?, dtype: float64"
      ]
     },
     "execution_count": 49,
     "metadata": {},
     "output_type": "execute_result"
    }
   ],
   "source": [
    "fin_ed_98['FinancialEducationOfferedAtSchoolOrWork?'].value_counts(normalize=True)"
   ]
  },
  {
   "cell_type": "markdown",
   "metadata": {},
   "source": [
    "**40% of the top 2** received financial education from school/work, and only **21% of the bottom 98** received financial education from school/work. \n"
   ]
  },
  {
   "cell_type": "code",
   "execution_count": 61,
   "metadata": {},
   "outputs": [
    {
     "data": {
      "text/plain": [
       "Text(0,12000,'0 = IDK\\n1 = Yes\\n2 = No')"
      ]
     },
     "execution_count": 61,
     "metadata": {},
     "output_type": "execute_result"
    },
    {
     "data": {
      "image/png": "[encoded data removed]",
      "text/plain": [
       "<Figure size 432x288 with 1 Axes>"
      ]
     },
     "metadata": {},
     "output_type": "display_data"
    }
   ],
   "source": [
    "fin_ed_98 = bottom_98[target]\n",
    "fin_ed_copy_98=fin_ed_98.copy()\n",
    "fin_ed_copy_98 = fin_ed_copy_98[fin_ed_copy_98['ParentsTeachYouAboutFinance?'] != 99]\n",
    "\n",
    "plt.hist(fin_ed_copy_98[\"ParentsTeachYouAboutFinance?\"])\n",
    "plt.xlabel('Responses')\n",
    "plt.ylabel('Frequency')\n",
    "plt.text(0, 12000, '0 = IDK\\n1 = Yes\\n2 = No')\n"
   ]
  },
  {
   "cell_type": "code",
   "execution_count": 63,
   "metadata": {},
   "outputs": [
    {
     "data": {
      "text/plain": [
       "Text(0,600,'0 = IDK\\n1 = Yes\\n2 = No')"
      ]
     },
     "execution_count": 63,
     "metadata": {},
     "output_type": "execute_result"
    },
    {
     "data": {
      "image/png": "[encoded data removed]",
      "text/plain": [
       "<Figure size 432x288 with 1 Axes>"
      ]
     },
     "metadata": {},
     "output_type": "display_data"
    }
   ],
   "source": [
    "fin_ed_2 = top_2[target]\n",
    "fin_ed_copy_2=fin_ed_2.copy()\n",
    "fin_ed_copy_2 = fin_ed_copy_2[fin_ed_copy_2['ParentsTeachYouAboutFinance?'] != 99]\n",
    "\n",
    "plt.hist(fin_ed_copy_2[\"ParentsTeachYouAboutFinance?\"])\n",
    "plt.xlabel('Responses')\n",
    "plt.ylabel('Frequency')\n",
    "plt.text(0, 600, '0 = IDK\\n1 = Yes\\n2 = No')"
   ]
  },
  {
   "cell_type": "code",
   "execution_count": 66,
   "metadata": {},
   "outputs": [
    {
     "data": {
      "text/plain": [
       "2    0.518070\n",
       "1    0.452904\n",
       "0    0.029026\n",
       "Name: ParentsTeachYouAboutFinance?, dtype: float64"
      ]
     },
     "execution_count": 66,
     "metadata": {},
     "output_type": "execute_result"
    }
   ],
   "source": [
    "fin_ed_copy_98['ParentsTeachYouAboutFinance?'].value_counts(normalize=True)"
   ]
  },
  {
   "cell_type": "code",
   "execution_count": 67,
   "metadata": {},
   "outputs": [
    {
     "data": {
      "text/plain": [
       "1    0.726886\n",
       "2    0.270988\n",
       "0    0.002125\n",
       "Name: ParentsTeachYouAboutFinance?, dtype: float64"
      ]
     },
     "execution_count": 67,
     "metadata": {},
     "output_type": "execute_result"
    }
   ],
   "source": [
    "fin_ed_copy_2['ParentsTeachYouAboutFinance?'].value_counts(normalize=True)"
   ]
  },
  {
   "cell_type": "markdown",
   "metadata": {},
   "source": [
    "**45% from the bottom 98** claimed that their parents taught them about finance, as opposed to **73% from the top 2** "
   ]
  },
  {
   "cell_type": "markdown",
   "metadata": {},
   "source": [
    "________________________________________________\n",
    "\n",
    "So far, I have demonstrated stark constrasts between the two groups by comparing attributes that weren't included in my financial literacy metric.  This means that I am on the right track in terms of verifying that this partition makes sense. I have two more comparisons to make, the next one being owning a home.\n",
    "\n",
    "## Comparing Home Ownership"
   ]
  },
  {
   "cell_type": "code",
   "execution_count": 72,
   "metadata": {},
   "outputs": [
    {
     "data": {
      "text/plain": [
       "Text(0,12000,'0 = IDK\\n1 = Yes\\n2 = No')"
      ]
     },
     "execution_count": 72,
     "metadata": {},
     "output_type": "execute_result"
    },
    {
     "data": {
      "image/png": "[encoded data removed]",
      "text/plain": [
       "<Figure size 432x288 with 1 Axes>"
      ]
     },
     "metadata": {},
     "output_type": "display_data"
    }
   ],
   "source": [
    "copy_bottom_98 = bottom_98.copy()\n",
    "copy_bottom_98 = copy_bottom_98[copy_bottom_98['OwnHome?']!=99]\n",
    "plt.hist(copy_bottom_98[\"OwnHome?\"])\n",
    "plt.xlabel('Responses')\n",
    "plt.ylabel('Frequency')\n",
    "plt.text(0, 12000, '0 = IDK\\n1 = Yes\\n2 = No')"
   ]
  },
  {
   "cell_type": "code",
   "execution_count": 74,
   "metadata": {},
   "outputs": [
    {
     "data": {
      "text/plain": [
       "Text(0,300,'0 = IDK\\n1 = Yes\\n2 = No')"
      ]
     },
     "execution_count": 74,
     "metadata": {},
     "output_type": "execute_result"
    },
    {
     "data": {
      "image/png": "[encoded data removed]",
      "text/plain": [
       "<Figure size 432x288 with 1 Axes>"
      ]
     },
     "metadata": {},
     "output_type": "display_data"
    }
   ],
   "source": [
    "copy_top_2 = top_2.copy()\n",
    "copy_top_2 = copy_top_2[copy_top_2['OwnHome?']!=99]\n",
    "plt.hist(copy_top_2[\"OwnHome?\"])\n",
    "plt.xlabel('Responses')\n",
    "plt.ylabel('Frequency')\n",
    "plt.text(0, 300, '0 = IDK\\n1 = Yes\\n2 = No')"
   ]
  },
  {
   "cell_type": "code",
   "execution_count": 78,
   "metadata": {},
   "outputs": [
    {
     "data": {
      "text/plain": [
       "1    0.61616\n",
       "2    0.37946\n",
       "0    0.00438\n",
       "Name: OwnHome?, dtype: float64"
      ]
     },
     "execution_count": 78,
     "metadata": {},
     "output_type": "execute_result"
    }
   ],
   "source": [
    "copy_bottom_98['OwnHome?'].value_counts(normalize =True)\n"
   ]
  },
  {
   "cell_type": "code",
   "execution_count": 76,
   "metadata": {},
   "outputs": [
    {
     "data": {
      "text/plain": [
       "1    0.928799\n",
       "2    0.070138\n",
       "0    0.001063\n",
       "Name: OwnHome?, dtype: float64"
      ]
     },
     "execution_count": 76,
     "metadata": {},
     "output_type": "execute_result"
    }
   ],
   "source": [
    "copy_top_2['OwnHome?'].value_counts(normalize=True)"
   ]
  },
  {
   "cell_type": "markdown",
   "metadata": {},
   "source": [
    "**38% of the bottom 98** don't own a home, as opposed to **7% of the top 2**.\n",
    "\n",
    "______________________________________________________________\n",
    "\n",
    "## Comparing Math Ability\n",
    "\n",
    "This is the last attribute I will use to compare the split and hopefully will be able to validate my partitioning."
   ]
  },
  {
   "cell_type": "code",
   "execution_count": 81,
   "metadata": {},
   "outputs": [
    {
     "data": {
      "text/plain": [
       "Text(0,8000,'0 = IDK\\n1 = Strongly Disagree \\n4 = Neither agree nor disagree \\n7 = Strongly Agree')"
      ]
     },
     "execution_count": 81,
     "metadata": {},
     "output_type": "execute_result"
    },
    {
     "data": {
      "image/png": "[encoded data removed]",
      "text/plain": [
       "<Figure size 432x288 with 1 Axes>"
      ]
     },
     "metadata": {},
     "output_type": "display_data"
    }
   ],
   "source": [
    "copy_math_98 = bottom_98[bottom_98['GoodAtMath?']!=99]\n",
    "plt.hist(copy_math_98[\"GoodAtMath?\"])\n",
    "plt.xlabel('Responses')\n",
    "plt.ylabel('Frequency')\n",
    "plt.text(0, 8000, '0 = IDK\\n1 = Strongly Disagree \\n4 = Neither agree nor disagree \\n7 = Strongly Agree')"
   ]
  },
  {
   "cell_type": "code",
   "execution_count": 83,
   "metadata": {},
   "outputs": [
    {
     "data": {
      "text/plain": [
       "Text(1,600,'0 = IDK\\n1 = Strongly Disagree \\n4 = Neither agree nor disagree \\n7 = Strongly Agree')"
      ]
     },
     "execution_count": 83,
     "metadata": {},
     "output_type": "execute_result"
    },
    {
     "data": {
      "image/png": "[encoded data removed]",
      "text/plain": [
       "<Figure size 432x288 with 1 Axes>"
      ]
     },
     "metadata": {},
     "output_type": "display_data"
    }
   ],
   "source": [
    "copy_math_2 =top_2[top_2['GoodAtMath?']!=99]\n",
    "plt.hist(copy_math_2[\"GoodAtMath?\"])\n",
    "plt.xlabel('Responses')\n",
    "plt.ylabel('Frequency')\n",
    "plt.text(1, 600, '0 = IDK\\n1 = Strongly Disagree \\n4 = Neither agree nor disagree \\n7 = Strongly Agree')"
   ]
  },
  {
   "cell_type": "code",
   "execution_count": 84,
   "metadata": {},
   "outputs": [
    {
     "data": {
      "text/plain": [
       "7    0.391393\n",
       "6    0.256746\n",
       "5    0.145802\n",
       "4    0.105781\n",
       "3    0.039833\n",
       "1    0.034255\n",
       "2    0.022159\n",
       "0    0.004032\n",
       "Name: GoodAtMath?, dtype: float64"
      ]
     },
     "execution_count": 84,
     "metadata": {},
     "output_type": "execute_result"
    }
   ],
   "source": [
    "copy_math_98['GoodAtMath?'].value_counts(normalize=True)"
   ]
  },
  {
   "cell_type": "code",
   "execution_count": 85,
   "metadata": {},
   "outputs": [
    {
     "data": {
      "text/plain": [
       "7    0.847872\n",
       "6    0.098936\n",
       "5    0.037234\n",
       "4    0.009574\n",
       "1    0.003191\n",
       "3    0.002128\n",
       "2    0.001064\n",
       "Name: GoodAtMath?, dtype: float64"
      ]
     },
     "execution_count": 85,
     "metadata": {},
     "output_type": "execute_result"
    }
   ],
   "source": [
    "copy_math_2['GoodAtMath?'].value_counts(normalize=True)"
   ]
  },
  {
   "cell_type": "code",
   "execution_count": 89,
   "metadata": {},
   "outputs": [
    {
     "data": {
      "text/plain": [
       "{'whiskers': [<matplotlib.lines.Line2D at 0x7f8e4edf2940>,\n",
       "  <matplotlib.lines.Line2D at 0x7f8e4edf2dd8>,\n",
       "  <matplotlib.lines.Line2D at 0x7f8e4ed80748>,\n",
       "  <matplotlib.lines.Line2D at 0x7f8e4ed80b70>],\n",
       " 'caps': [<matplotlib.lines.Line2D at 0x7f8e4edf8240>,\n",
       "  <matplotlib.lines.Line2D at 0x7f8e4edf8668>,\n",
       "  <matplotlib.lines.Line2D at 0x7f8e4ed80f98>,\n",
       "  <matplotlib.lines.Line2D at 0x7f8e4ed89400>],\n",
       " 'boxes': [<matplotlib.lines.Line2D at 0x7f8e4edf27f0>,\n",
       "  <matplotlib.lines.Line2D at 0x7f8e4ed802e8>],\n",
       " 'medians': [<matplotlib.lines.Line2D at 0x7f8e4edf8a90>,\n",
       "  <matplotlib.lines.Line2D at 0x7f8e4ed89828>],\n",
       " 'fliers': [<matplotlib.lines.Line2D at 0x7f8e4edf8eb8>,\n",
       "  <matplotlib.lines.Line2D at 0x7f8e4ed89c50>],\n",
       " 'means': []}"
      ]
     },
     "execution_count": 89,
     "metadata": {},
     "output_type": "execute_result"
    },
    {
     "data": {
      "image/png": "[encoded data removed]",
      "text/plain": [
       "<Figure size 432x288 with 1 Axes>"
      ]
     },
     "metadata": {},
     "output_type": "display_data"
    }
   ],
   "source": [
    "\n",
    "plt.boxplot([copy_math_98['GoodAtMath?'], \n",
    "            copy_math_2['GoodAtMath?']], labels=['Bottom 98', 'Top 2'])"
   ]
  },
  {
   "cell_type": "markdown",
   "metadata": {},
   "source": [
    "**39% of the bottom 98** claim strongly that they're good at math, as opposed to **85% of the top 2**. Furthermore, the spread of responses is much larger from the bottom 98 when examining the box plot and histograms directly above.\n",
    "\n",
    "### Summary:\n",
    "\n",
    "| Comparison       | Top 2 %         | Bottom 98%  |\n",
    "| :------------- :|:-------------:| :-----:|\n",
    "| Household Income | 54% earn more than 100K | 17% earn more than 100K |\n",
    "| Highest Level of Education   |  23% did not attend college    |  54%   did not attend college|\n",
    "| Financial Education| 40% received from work or school; 73% received from parents     | 21% received from work or school; 45% received from parents\n",
    "|Home Ownership  | 7% do not own home | 38% do not own home|\n",
    "| Math Abilities  | 85% very confident in abilities | 39% very confident in abilities|"
   ]
  },
  {
   "cell_type": "code",
   "execution_count": null,
   "metadata": {},
   "outputs": [],
   "source": []
  }
 ],
 "metadata": {
  "kernelspec": {
   "display_name": "Python 3",
   "language": "python",
   "name": "python3"
  },
  "language_info": {
   "codemirror_mode": {
    "name": "ipython",
    "version": 3
   },
   "file_extension": ".py",
   "mimetype": "text/x-python",
   "name": "python",
   "nbconvert_exporter": "python",
   "pygments_lexer": "ipython3",
   "version": "3.6.5"
  }
 },
 "nbformat": 4,
 "nbformat_minor": 2
}
